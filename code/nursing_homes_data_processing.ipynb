{
  "nbformat": 4,
  "nbformat_minor": 0,
  "metadata": {
    "colab": {
      "name": "nursing_homes.ipynb",
      "provenance": [],
      "collapsed_sections": [],
      "toc_visible": true
    },
    "kernelspec": {
      "name": "python3",
      "display_name": "Python 3"
    },
    "widgets": {
      "application/vnd.jupyter.widget-state+json": {
        "1e855a2836624340bbd635ce5fa4eee2": {
          "model_module": "@jupyter-widgets/controls",
          "model_name": "HBoxModel",
          "state": {
            "_view_name": "HBoxView",
            "_dom_classes": [],
            "_model_name": "HBoxModel",
            "_view_module": "@jupyter-widgets/controls",
            "_model_module_version": "1.5.0",
            "_view_count": null,
            "_view_module_version": "1.5.0",
            "box_style": "",
            "layout": "IPY_MODEL_fba694293ac24283b49fd085540da00e",
            "_model_module": "@jupyter-widgets/controls",
            "children": [
              "IPY_MODEL_fa2573c335f04202a763a41bae0db69c",
              "IPY_MODEL_4cc4595e934c4417a525a7e3b366d29e"
            ]
          }
        },
        "fba694293ac24283b49fd085540da00e": {
          "model_module": "@jupyter-widgets/base",
          "model_name": "LayoutModel",
          "state": {
            "_view_name": "LayoutView",
            "grid_template_rows": null,
            "right": null,
            "justify_content": null,
            "_view_module": "@jupyter-widgets/base",
            "overflow": null,
            "_model_module_version": "1.2.0",
            "_view_count": null,
            "flex_flow": null,
            "width": null,
            "min_width": null,
            "border": null,
            "align_items": null,
            "bottom": null,
            "_model_module": "@jupyter-widgets/base",
            "top": null,
            "grid_column": null,
            "overflow_y": null,
            "overflow_x": null,
            "grid_auto_flow": null,
            "grid_area": null,
            "grid_template_columns": null,
            "flex": null,
            "_model_name": "LayoutModel",
            "justify_items": null,
            "grid_row": null,
            "max_height": null,
            "align_content": null,
            "visibility": null,
            "align_self": null,
            "height": null,
            "min_height": null,
            "padding": null,
            "grid_auto_rows": null,
            "grid_gap": null,
            "max_width": null,
            "order": null,
            "_view_module_version": "1.2.0",
            "grid_template_areas": null,
            "object_position": null,
            "object_fit": null,
            "grid_auto_columns": null,
            "margin": null,
            "display": null,
            "left": null
          }
        },
        "fa2573c335f04202a763a41bae0db69c": {
          "model_module": "@jupyter-widgets/controls",
          "model_name": "FloatProgressModel",
          "state": {
            "_view_name": "ProgressView",
            "style": "IPY_MODEL_09ea4bf41644411baea5e2663d9793c1",
            "_dom_classes": [],
            "description": "100%",
            "_model_name": "FloatProgressModel",
            "bar_style": "success",
            "max": 812,
            "_view_module": "@jupyter-widgets/controls",
            "_model_module_version": "1.5.0",
            "value": 812,
            "_view_count": null,
            "_view_module_version": "1.5.0",
            "orientation": "horizontal",
            "min": 0,
            "description_tooltip": null,
            "_model_module": "@jupyter-widgets/controls",
            "layout": "IPY_MODEL_b7d7857d8db2460c9ccca1c41ad995e3"
          }
        },
        "4cc4595e934c4417a525a7e3b366d29e": {
          "model_module": "@jupyter-widgets/controls",
          "model_name": "HTMLModel",
          "state": {
            "_view_name": "HTMLView",
            "style": "IPY_MODEL_36422e1492d54e6c88e34d60e5cad65a",
            "_dom_classes": [],
            "description": "",
            "_model_name": "HTMLModel",
            "placeholder": "​",
            "_view_module": "@jupyter-widgets/controls",
            "_model_module_version": "1.5.0",
            "value": " 812/812 [00:03&lt;00:00, 252.95it/s]",
            "_view_count": null,
            "_view_module_version": "1.5.0",
            "description_tooltip": null,
            "_model_module": "@jupyter-widgets/controls",
            "layout": "IPY_MODEL_948bce9df76c4b3aaff919656ce5334e"
          }
        },
        "09ea4bf41644411baea5e2663d9793c1": {
          "model_module": "@jupyter-widgets/controls",
          "model_name": "ProgressStyleModel",
          "state": {
            "_view_name": "StyleView",
            "_model_name": "ProgressStyleModel",
            "description_width": "initial",
            "_view_module": "@jupyter-widgets/base",
            "_model_module_version": "1.5.0",
            "_view_count": null,
            "_view_module_version": "1.2.0",
            "bar_color": null,
            "_model_module": "@jupyter-widgets/controls"
          }
        },
        "b7d7857d8db2460c9ccca1c41ad995e3": {
          "model_module": "@jupyter-widgets/base",
          "model_name": "LayoutModel",
          "state": {
            "_view_name": "LayoutView",
            "grid_template_rows": null,
            "right": null,
            "justify_content": null,
            "_view_module": "@jupyter-widgets/base",
            "overflow": null,
            "_model_module_version": "1.2.0",
            "_view_count": null,
            "flex_flow": null,
            "width": null,
            "min_width": null,
            "border": null,
            "align_items": null,
            "bottom": null,
            "_model_module": "@jupyter-widgets/base",
            "top": null,
            "grid_column": null,
            "overflow_y": null,
            "overflow_x": null,
            "grid_auto_flow": null,
            "grid_area": null,
            "grid_template_columns": null,
            "flex": null,
            "_model_name": "LayoutModel",
            "justify_items": null,
            "grid_row": null,
            "max_height": null,
            "align_content": null,
            "visibility": null,
            "align_self": null,
            "height": null,
            "min_height": null,
            "padding": null,
            "grid_auto_rows": null,
            "grid_gap": null,
            "max_width": null,
            "order": null,
            "_view_module_version": "1.2.0",
            "grid_template_areas": null,
            "object_position": null,
            "object_fit": null,
            "grid_auto_columns": null,
            "margin": null,
            "display": null,
            "left": null
          }
        },
        "36422e1492d54e6c88e34d60e5cad65a": {
          "model_module": "@jupyter-widgets/controls",
          "model_name": "DescriptionStyleModel",
          "state": {
            "_view_name": "StyleView",
            "_model_name": "DescriptionStyleModel",
            "description_width": "",
            "_view_module": "@jupyter-widgets/base",
            "_model_module_version": "1.5.0",
            "_view_count": null,
            "_view_module_version": "1.2.0",
            "_model_module": "@jupyter-widgets/controls"
          }
        },
        "948bce9df76c4b3aaff919656ce5334e": {
          "model_module": "@jupyter-widgets/base",
          "model_name": "LayoutModel",
          "state": {
            "_view_name": "LayoutView",
            "grid_template_rows": null,
            "right": null,
            "justify_content": null,
            "_view_module": "@jupyter-widgets/base",
            "overflow": null,
            "_model_module_version": "1.2.0",
            "_view_count": null,
            "flex_flow": null,
            "width": null,
            "min_width": null,
            "border": null,
            "align_items": null,
            "bottom": null,
            "_model_module": "@jupyter-widgets/base",
            "top": null,
            "grid_column": null,
            "overflow_y": null,
            "overflow_x": null,
            "grid_auto_flow": null,
            "grid_area": null,
            "grid_template_columns": null,
            "flex": null,
            "_model_name": "LayoutModel",
            "justify_items": null,
            "grid_row": null,
            "max_height": null,
            "align_content": null,
            "visibility": null,
            "align_self": null,
            "height": null,
            "min_height": null,
            "padding": null,
            "grid_auto_rows": null,
            "grid_gap": null,
            "max_width": null,
            "order": null,
            "_view_module_version": "1.2.0",
            "grid_template_areas": null,
            "object_position": null,
            "object_fit": null,
            "grid_auto_columns": null,
            "margin": null,
            "display": null,
            "left": null
          }
        }
      }
    }
  },
  "cells": [
    {
      "cell_type": "code",
      "metadata": {
        "tags": [],
        "id": "EJJ4qgvpjiPe",
        "outputId": "50b5cdde-8528-4a44-b8ab-53b3d95abdee",
        "colab": {
          "base_uri": "https://localhost:8080/",
          "height": 1000
        }
      },
      "source": [
        "!pip install git+git://github.com/geopandas/geopandas.git\n",
        "!pip install earthpy\n",
        "!pip install descartes # required for plotting polygons in geopandas"
      ],
      "execution_count": 41,
      "outputs": [
        {
          "output_type": "stream",
          "text": [
            "Collecting git+git://github.com/geopandas/geopandas.git\n",
            "  Cloning git://github.com/geopandas/geopandas.git to /tmp/pip-req-build-el5m52ug\n",
            "  Running command git clone -q git://github.com/geopandas/geopandas.git /tmp/pip-req-build-el5m52ug\n",
            "Requirement already satisfied (use --upgrade to upgrade): geopandas==0.8.0+55.g924cdf6 from git+git://github.com/geopandas/geopandas.git in /usr/local/lib/python3.6/dist-packages\n",
            "Requirement already satisfied: pandas>=0.24.0 in /usr/local/lib/python3.6/dist-packages (from geopandas==0.8.0+55.g924cdf6) (1.1.2)\n",
            "Requirement already satisfied: shapely>=1.6 in /usr/local/lib/python3.6/dist-packages (from geopandas==0.8.0+55.g924cdf6) (1.7.1)\n",
            "Requirement already satisfied: fiona>=1.8 in /usr/local/lib/python3.6/dist-packages (from geopandas==0.8.0+55.g924cdf6) (1.8.17)\n",
            "Requirement already satisfied: pyproj>=2.2.0 in /usr/local/lib/python3.6/dist-packages (from geopandas==0.8.0+55.g924cdf6) (2.6.1.post1)\n",
            "Requirement already satisfied: python-dateutil>=2.7.3 in /usr/local/lib/python3.6/dist-packages (from pandas>=0.24.0->geopandas==0.8.0+55.g924cdf6) (2.8.1)\n",
            "Requirement already satisfied: numpy>=1.15.4 in /usr/local/lib/python3.6/dist-packages (from pandas>=0.24.0->geopandas==0.8.0+55.g924cdf6) (1.18.5)\n",
            "Requirement already satisfied: pytz>=2017.2 in /usr/local/lib/python3.6/dist-packages (from pandas>=0.24.0->geopandas==0.8.0+55.g924cdf6) (2018.9)\n",
            "Requirement already satisfied: attrs>=17 in /usr/local/lib/python3.6/dist-packages (from fiona>=1.8->geopandas==0.8.0+55.g924cdf6) (20.2.0)\n",
            "Requirement already satisfied: click-plugins>=1.0 in /usr/local/lib/python3.6/dist-packages (from fiona>=1.8->geopandas==0.8.0+55.g924cdf6) (1.1.1)\n",
            "Requirement already satisfied: munch in /usr/local/lib/python3.6/dist-packages (from fiona>=1.8->geopandas==0.8.0+55.g924cdf6) (2.5.0)\n",
            "Requirement already satisfied: six>=1.7 in /usr/local/lib/python3.6/dist-packages (from fiona>=1.8->geopandas==0.8.0+55.g924cdf6) (1.15.0)\n",
            "Requirement already satisfied: click<8,>=4.0 in /usr/local/lib/python3.6/dist-packages (from fiona>=1.8->geopandas==0.8.0+55.g924cdf6) (7.1.2)\n",
            "Requirement already satisfied: cligj>=0.5 in /usr/local/lib/python3.6/dist-packages (from fiona>=1.8->geopandas==0.8.0+55.g924cdf6) (0.5.0)\n",
            "Building wheels for collected packages: geopandas\n",
            "  Building wheel for geopandas (setup.py) ... \u001b[?25l\u001b[?25hdone\n",
            "  Created wheel for geopandas: filename=geopandas-0.8.0+55.g924cdf6-py2.py3-none-any.whl size=970002 sha256=280cdb14ca34b10ee7a5845009d64b06bb7db344b91e25c1be1f1fb4d42531b8\n",
            "  Stored in directory: /tmp/pip-ephem-wheel-cache-94chqa9r/wheels/91/24/71/376c9c67192694168352afcccc2d264248f7e2cc6192997186\n",
            "Successfully built geopandas\n",
            "Requirement already satisfied: earthpy in /usr/local/lib/python3.6/dist-packages (0.9.2)\n",
            "Requirement already satisfied: geopandas in /usr/local/lib/python3.6/dist-packages (from earthpy) (0.8.0+55.g924cdf6)\n",
            "Requirement already satisfied: rasterio in /usr/local/lib/python3.6/dist-packages (from earthpy) (1.1.7)\n",
            "Requirement already satisfied: numpy>=1.14.0 in /usr/local/lib/python3.6/dist-packages (from earthpy) (1.18.5)\n",
            "Requirement already satisfied: scikit-image in /usr/local/lib/python3.6/dist-packages (from earthpy) (0.16.2)\n",
            "Requirement already satisfied: matplotlib>=2.0.0 in /usr/local/lib/python3.6/dist-packages (from earthpy) (3.2.2)\n",
            "Requirement already satisfied: requests in /usr/local/lib/python3.6/dist-packages (from earthpy) (2.23.0)\n",
            "Requirement already satisfied: pyproj>=2.2.0 in /usr/local/lib/python3.6/dist-packages (from geopandas->earthpy) (2.6.1.post1)\n",
            "Requirement already satisfied: pandas>=0.24.0 in /usr/local/lib/python3.6/dist-packages (from geopandas->earthpy) (1.1.2)\n",
            "Requirement already satisfied: shapely>=1.6 in /usr/local/lib/python3.6/dist-packages (from geopandas->earthpy) (1.7.1)\n",
            "Requirement already satisfied: fiona>=1.8 in /usr/local/lib/python3.6/dist-packages (from geopandas->earthpy) (1.8.17)\n",
            "Requirement already satisfied: affine in /usr/local/lib/python3.6/dist-packages (from rasterio->earthpy) (2.3.0)\n",
            "Requirement already satisfied: snuggs>=1.4.1 in /usr/local/lib/python3.6/dist-packages (from rasterio->earthpy) (1.4.7)\n",
            "Requirement already satisfied: click<8,>=4.0 in /usr/local/lib/python3.6/dist-packages (from rasterio->earthpy) (7.1.2)\n",
            "Requirement already satisfied: attrs in /usr/local/lib/python3.6/dist-packages (from rasterio->earthpy) (20.2.0)\n",
            "Requirement already satisfied: cligj>=0.5 in /usr/local/lib/python3.6/dist-packages (from rasterio->earthpy) (0.5.0)\n",
            "Requirement already satisfied: click-plugins in /usr/local/lib/python3.6/dist-packages (from rasterio->earthpy) (1.1.1)\n",
            "Requirement already satisfied: PyWavelets>=0.4.0 in /usr/local/lib/python3.6/dist-packages (from scikit-image->earthpy) (1.1.1)\n",
            "Requirement already satisfied: scipy>=0.19.0 in /usr/local/lib/python3.6/dist-packages (from scikit-image->earthpy) (1.4.1)\n",
            "Requirement already satisfied: imageio>=2.3.0 in /usr/local/lib/python3.6/dist-packages (from scikit-image->earthpy) (2.4.1)\n",
            "Requirement already satisfied: networkx>=2.0 in /usr/local/lib/python3.6/dist-packages (from scikit-image->earthpy) (2.5)\n",
            "Requirement already satisfied: pillow>=4.3.0 in /usr/local/lib/python3.6/dist-packages (from scikit-image->earthpy) (7.0.0)\n",
            "Requirement already satisfied: pyparsing!=2.0.4,!=2.1.2,!=2.1.6,>=2.0.1 in /usr/local/lib/python3.6/dist-packages (from matplotlib>=2.0.0->earthpy) (2.4.7)\n",
            "Requirement already satisfied: cycler>=0.10 in /usr/local/lib/python3.6/dist-packages (from matplotlib>=2.0.0->earthpy) (0.10.0)\n",
            "Requirement already satisfied: python-dateutil>=2.1 in /usr/local/lib/python3.6/dist-packages (from matplotlib>=2.0.0->earthpy) (2.8.1)\n",
            "Requirement already satisfied: kiwisolver>=1.0.1 in /usr/local/lib/python3.6/dist-packages (from matplotlib>=2.0.0->earthpy) (1.2.0)\n",
            "Requirement already satisfied: urllib3!=1.25.0,!=1.25.1,<1.26,>=1.21.1 in /usr/local/lib/python3.6/dist-packages (from requests->earthpy) (1.24.3)\n",
            "Requirement already satisfied: chardet<4,>=3.0.2 in /usr/local/lib/python3.6/dist-packages (from requests->earthpy) (3.0.4)\n",
            "Requirement already satisfied: idna<3,>=2.5 in /usr/local/lib/python3.6/dist-packages (from requests->earthpy) (2.10)\n",
            "Requirement already satisfied: certifi>=2017.4.17 in /usr/local/lib/python3.6/dist-packages (from requests->earthpy) (2020.6.20)\n",
            "Requirement already satisfied: pytz>=2017.2 in /usr/local/lib/python3.6/dist-packages (from pandas>=0.24.0->geopandas->earthpy) (2018.9)\n",
            "Requirement already satisfied: munch in /usr/local/lib/python3.6/dist-packages (from fiona>=1.8->geopandas->earthpy) (2.5.0)\n",
            "Requirement already satisfied: six>=1.7 in /usr/local/lib/python3.6/dist-packages (from fiona>=1.8->geopandas->earthpy) (1.15.0)\n",
            "Requirement already satisfied: decorator>=4.3.0 in /usr/local/lib/python3.6/dist-packages (from networkx>=2.0->scikit-image->earthpy) (4.4.2)\n",
            "Requirement already satisfied: descartes in /usr/local/lib/python3.6/dist-packages (1.1.0)\n",
            "Requirement already satisfied: matplotlib in /usr/local/lib/python3.6/dist-packages (from descartes) (3.2.2)\n",
            "Requirement already satisfied: pyparsing!=2.0.4,!=2.1.2,!=2.1.6,>=2.0.1 in /usr/local/lib/python3.6/dist-packages (from matplotlib->descartes) (2.4.7)\n",
            "Requirement already satisfied: numpy>=1.11 in /usr/local/lib/python3.6/dist-packages (from matplotlib->descartes) (1.18.5)\n",
            "Requirement already satisfied: cycler>=0.10 in /usr/local/lib/python3.6/dist-packages (from matplotlib->descartes) (0.10.0)\n",
            "Requirement already satisfied: kiwisolver>=1.0.1 in /usr/local/lib/python3.6/dist-packages (from matplotlib->descartes) (1.2.0)\n",
            "Requirement already satisfied: python-dateutil>=2.1 in /usr/local/lib/python3.6/dist-packages (from matplotlib->descartes) (2.8.1)\n",
            "Requirement already satisfied: six in /usr/local/lib/python3.6/dist-packages (from cycler>=0.10->matplotlib->descartes) (1.15.0)\n"
          ],
          "name": "stdout"
        }
      ]
    },
    {
      "cell_type": "code",
      "metadata": {
        "id": "520px5NJjiPi"
      },
      "source": [
        "# import necessary packages\n",
        "%matplotlib inline\n",
        "import os\n",
        "import matplotlib.pyplot as plt\n",
        "import geopandas as gpd\n",
        "import earthpy as et\n",
        "import pandas as pd\n",
        "from tqdm.notebook import tqdm\n",
        "pd.options.mode.chained_assignment = None  # default='warn'"
      ],
      "execution_count": 42,
      "outputs": []
    },
    {
      "cell_type": "markdown",
      "metadata": {
        "id": "BsaCV0AnnaK0"
      },
      "source": [
        "# Understanding the Shape File"
      ]
    },
    {
      "cell_type": "code",
      "metadata": {
        "id": "zEuGeCmUnSg-"
      },
      "source": [
        "# Load the shape file from github\n",
        "!wget -Nq https://raw.githubusercontent.com/kaushiktandon/COVID-19-Vaccine-Allocation/master/shape/la_shape.zip\n",
        "!unzip -nq la_shape.zip -d shape"
      ],
      "execution_count": 43,
      "outputs": []
    },
    {
      "cell_type": "markdown",
      "metadata": {
        "id": "UX8wRnJJnYzJ"
      },
      "source": [
        "This part will help us understand what the Los Angeles County shapefile contains"
      ]
    },
    {
      "cell_type": "code",
      "metadata": {
        "id": "TM5dDMk7e8HY",
        "tags": [],
        "outputId": "74bffd10-5e05-4b58-adef-cd5cbc03bbd1",
        "colab": {
          "base_uri": "https://localhost:8080/",
          "height": 228
        }
      },
      "source": [
        "# Let's take a look at the shapefile\n",
        "neighborhood_shapes = gpd.read_file(\"shape/la_shape.shp\") # L.A. County neighborhoods shapefile\n",
        "print(neighborhood_shapes.head()) # view the data attribute table \n",
        "print(\"Shape: \", neighborhood_shapes.shape)\n",
        "print(neighborhood_shapes.columns)"
      ],
      "execution_count": 44,
      "outputs": [
        {
          "output_type": "stream",
          "text": [
            "              slug  ...                                           geometry\n",
            "0            acton  ...  POLYGON ((-118.20262 34.53899, -118.18947 34.5...\n",
            "1  adams-normandie  ...  POLYGON ((-118.30901 34.03741, -118.30041 34.0...\n",
            "2     agoura-hills  ...  POLYGON ((-118.76193 34.16820, -118.72632 34.1...\n",
            "3       agua-dulce  ...  POLYGON ((-118.25468 34.55830, -118.25551 34.5...\n",
            "4         alhambra  ...  POLYGON ((-118.12175 34.10504, -118.11687 34.1...\n",
            "\n",
            "[5 rows x 11 columns]\n",
            "Shape:  (272, 11)\n",
            "Index(['slug', 'set', 'kind', 'external_i', 'name', 'display_na', 'sqmi',\n",
            "       'type', 'name_1', 'slug_1', 'geometry'],\n",
            "      dtype='object')\n"
          ],
          "name": "stdout"
        }
      ]
    },
    {
      "cell_type": "code",
      "metadata": {
        "tags": [],
        "id": "WUhSC3TQs61f",
        "outputId": "f1b0ac17-961d-4058-c0f3-096dab36463a",
        "colab": {
          "base_uri": "https://localhost:8080/",
          "height": 283
        }
      },
      "source": [
        "neighborhood_shapes.plot()"
      ],
      "execution_count": 45,
      "outputs": [
        {
          "output_type": "execute_result",
          "data": {
            "text/plain": [
              "<matplotlib.axes._subplots.AxesSubplot at 0x7fca1c4cbf98>"
            ]
          },
          "metadata": {
            "tags": []
          },
          "execution_count": 45
        },
        {
          "output_type": "display_data",
          "data": {
            "image/png": "[encoded data removed]",
            "text/plain": [
              "<Figure size 432x288 with 1 Axes>"
            ]
          },
          "metadata": {
            "tags": [],
            "needs_background": "light"
          }
        }
      ]
    },
    {
      "cell_type": "markdown",
      "metadata": {
        "id": "KnfaTujAC0Mn"
      },
      "source": [
        "# Understanding the Nursing Home Data\n"
      ]
    },
    {
      "cell_type": "code",
      "metadata": {
        "id": "1jd-XQ1-jiPq"
      },
      "source": [
        "!wget --directory-prefix=data/ -Nq https://raw.githubusercontent.com/kaushiktandon/COVID-19-Vaccine-Allocation/master/data/Nursing_Homes_Raw.csv\n",
        "nursing_homes_filename = 'data/Nursing_Homes_Raw.csv'\n",
        "\n",
        "nursing_home_data = pd.read_csv(nursing_homes_filename)\n",
        "nursing_home_data.rename(columns={'BEDS': 'Beds', 'LATITUDE': 'Latitude', 'LONGITUDE': 'Longitude'}, inplace=True)"
      ],
      "execution_count": 46,
      "outputs": []
    },
    {
      "cell_type": "code",
      "metadata": {
        "id": "Rqz8QmIOfISd",
        "outputId": "2d21a369-352a-45ca-9a55-edd28fa8bf52",
        "colab": {
          "base_uri": "https://localhost:8080/",
          "height": 289
        }
      },
      "source": [
        "nursing_home_data.head()"
      ],
      "execution_count": 47,
      "outputs": [
        {
          "output_type": "execute_result",
          "data": {
            "text/html": [
              "<div>\n",
              "<style scoped>\n",
              "    .dataframe tbody tr th:only-of-type {\n",
              "        vertical-align: middle;\n",
              "    }\n",
              "\n",
              "    .dataframe tbody tr th {\n",
              "        vertical-align: top;\n",
              "    }\n",
              "\n",
              "    .dataframe thead th {\n",
              "        text-align: right;\n",
              "    }\n",
              "</style>\n",
              "<table border=\"1\" class=\"dataframe\">\n",
              "  <thead>\n",
              "    <tr style=\"text-align: right;\">\n",
              "      <th></th>\n",
              "      <th>NAME</th>\n",
              "      <th>ADDRESS</th>\n",
              "      <th>CITY</th>\n",
              "      <th>STATE</th>\n",
              "      <th>ZIP</th>\n",
              "      <th>POPULATION</th>\n",
              "      <th>COUNTY</th>\n",
              "      <th>Latitude</th>\n",
              "      <th>Longitude</th>\n",
              "      <th>Beds</th>\n",
              "    </tr>\n",
              "  </thead>\n",
              "  <tbody>\n",
              "    <tr>\n",
              "      <th>0</th>\n",
              "      <td>CULPEPPER'S HOME #2</td>\n",
              "      <td>3616 10TH AVENUE</td>\n",
              "      <td>LOS ANGELES</td>\n",
              "      <td>CA</td>\n",
              "      <td>90018</td>\n",
              "      <td>15</td>\n",
              "      <td>LOS ANGELES</td>\n",
              "      <td>34.022376</td>\n",
              "      <td>-118.328043</td>\n",
              "      <td>15</td>\n",
              "    </tr>\n",
              "    <tr>\n",
              "      <th>1</th>\n",
              "      <td>SOUTHSIDE MANOR</td>\n",
              "      <td>820 EAST GRAND AVENUE</td>\n",
              "      <td>POMONA</td>\n",
              "      <td>CA</td>\n",
              "      <td>91766</td>\n",
              "      <td>38</td>\n",
              "      <td>LOS ANGELES</td>\n",
              "      <td>34.048060</td>\n",
              "      <td>-117.740399</td>\n",
              "      <td>38</td>\n",
              "    </tr>\n",
              "    <tr>\n",
              "      <th>2</th>\n",
              "      <td>VILLA STANLEY EAST INC.</td>\n",
              "      <td>7253 MELROSE AVENUE</td>\n",
              "      <td>LOS ANGELES</td>\n",
              "      <td>CA</td>\n",
              "      <td>90046</td>\n",
              "      <td>62</td>\n",
              "      <td>LOS ANGELES</td>\n",
              "      <td>34.083786</td>\n",
              "      <td>-118.347639</td>\n",
              "      <td>62</td>\n",
              "    </tr>\n",
              "    <tr>\n",
              "      <th>3</th>\n",
              "      <td>COUNTRY VIEW RETIREMENT HOME</td>\n",
              "      <td>824 W. CAMERON AVE.</td>\n",
              "      <td>WEST COVINA</td>\n",
              "      <td>CA</td>\n",
              "      <td>91790</td>\n",
              "      <td>136</td>\n",
              "      <td>LOS ANGELES</td>\n",
              "      <td>34.061876</td>\n",
              "      <td>-117.933062</td>\n",
              "      <td>136</td>\n",
              "    </tr>\n",
              "    <tr>\n",
              "      <th>4</th>\n",
              "      <td>BEVERLY HILLS GARDENS CARE CENTER</td>\n",
              "      <td>1470 S. ROBERTSON BLVD</td>\n",
              "      <td>LOS ANGELES</td>\n",
              "      <td>CA</td>\n",
              "      <td>90035</td>\n",
              "      <td>110</td>\n",
              "      <td>LOS ANGELES</td>\n",
              "      <td>34.052722</td>\n",
              "      <td>-118.383780</td>\n",
              "      <td>110</td>\n",
              "    </tr>\n",
              "  </tbody>\n",
              "</table>\n",
              "</div>"
            ],
            "text/plain": [
              "                                NAME                 ADDRESS  ...   Longitude Beds\n",
              "0                CULPEPPER'S HOME #2        3616 10TH AVENUE  ... -118.328043   15\n",
              "1                    SOUTHSIDE MANOR   820 EAST GRAND AVENUE  ... -117.740399   38\n",
              "2            VILLA STANLEY EAST INC.     7253 MELROSE AVENUE  ... -118.347639   62\n",
              "3       COUNTRY VIEW RETIREMENT HOME     824 W. CAMERON AVE.  ... -117.933062  136\n",
              "4  BEVERLY HILLS GARDENS CARE CENTER  1470 S. ROBERTSON BLVD  ... -118.383780  110\n",
              "\n",
              "[5 rows x 10 columns]"
            ]
          },
          "metadata": {
            "tags": []
          },
          "execution_count": 47
        }
      ]
    },
    {
      "cell_type": "code",
      "metadata": {
        "id": "0Jqx8dY1kUkT",
        "outputId": "6aab7281-f6e9-4b92-fb43-905544cee000",
        "colab": {
          "base_uri": "https://localhost:8080/",
          "height": 295
        }
      },
      "source": [
        "nursing_home_data.describe()"
      ],
      "execution_count": 48,
      "outputs": [
        {
          "output_type": "execute_result",
          "data": {
            "text/html": [
              "<div>\n",
              "<style scoped>\n",
              "    .dataframe tbody tr th:only-of-type {\n",
              "        vertical-align: middle;\n",
              "    }\n",
              "\n",
              "    .dataframe tbody tr th {\n",
              "        vertical-align: top;\n",
              "    }\n",
              "\n",
              "    .dataframe thead th {\n",
              "        text-align: right;\n",
              "    }\n",
              "</style>\n",
              "<table border=\"1\" class=\"dataframe\">\n",
              "  <thead>\n",
              "    <tr style=\"text-align: right;\">\n",
              "      <th></th>\n",
              "      <th>ZIP</th>\n",
              "      <th>POPULATION</th>\n",
              "      <th>Latitude</th>\n",
              "      <th>Longitude</th>\n",
              "      <th>Beds</th>\n",
              "    </tr>\n",
              "  </thead>\n",
              "  <tbody>\n",
              "    <tr>\n",
              "      <th>count</th>\n",
              "      <td>812.000000</td>\n",
              "      <td>812.000000</td>\n",
              "      <td>812.000000</td>\n",
              "      <td>812.000000</td>\n",
              "      <td>812.000000</td>\n",
              "    </tr>\n",
              "    <tr>\n",
              "      <th>mean</th>\n",
              "      <td>90857.956897</td>\n",
              "      <td>94.548030</td>\n",
              "      <td>34.057253</td>\n",
              "      <td>-118.229721</td>\n",
              "      <td>94.548030</td>\n",
              "    </tr>\n",
              "    <tr>\n",
              "      <th>std</th>\n",
              "      <td>702.333598</td>\n",
              "      <td>72.182338</td>\n",
              "      <td>0.152603</td>\n",
              "      <td>0.195716</td>\n",
              "      <td>72.182338</td>\n",
              "    </tr>\n",
              "    <tr>\n",
              "      <th>min</th>\n",
              "      <td>90004.000000</td>\n",
              "      <td>4.000000</td>\n",
              "      <td>33.339190</td>\n",
              "      <td>-118.740057</td>\n",
              "      <td>4.000000</td>\n",
              "    </tr>\n",
              "    <tr>\n",
              "      <th>25%</th>\n",
              "      <td>90221.750000</td>\n",
              "      <td>44.000000</td>\n",
              "      <td>33.969212</td>\n",
              "      <td>-118.357739</td>\n",
              "      <td>44.000000</td>\n",
              "    </tr>\n",
              "    <tr>\n",
              "      <th>50%</th>\n",
              "      <td>90805.000000</td>\n",
              "      <td>89.500000</td>\n",
              "      <td>34.070356</td>\n",
              "      <td>-118.260204</td>\n",
              "      <td>89.500000</td>\n",
              "    </tr>\n",
              "    <tr>\n",
              "      <th>75%</th>\n",
              "      <td>91355.250000</td>\n",
              "      <td>125.000000</td>\n",
              "      <td>34.142428</td>\n",
              "      <td>-118.122656</td>\n",
              "      <td>125.000000</td>\n",
              "    </tr>\n",
              "    <tr>\n",
              "      <th>max</th>\n",
              "      <td>93543.000000</td>\n",
              "      <td>574.000000</td>\n",
              "      <td>34.704958</td>\n",
              "      <td>-117.715380</td>\n",
              "      <td>574.000000</td>\n",
              "    </tr>\n",
              "  </tbody>\n",
              "</table>\n",
              "</div>"
            ],
            "text/plain": [
              "                ZIP  POPULATION    Latitude   Longitude        Beds\n",
              "count    812.000000  812.000000  812.000000  812.000000  812.000000\n",
              "mean   90857.956897   94.548030   34.057253 -118.229721   94.548030\n",
              "std      702.333598   72.182338    0.152603    0.195716   72.182338\n",
              "min    90004.000000    4.000000   33.339190 -118.740057    4.000000\n",
              "25%    90221.750000   44.000000   33.969212 -118.357739   44.000000\n",
              "50%    90805.000000   89.500000   34.070356 -118.260204   89.500000\n",
              "75%    91355.250000  125.000000   34.142428 -118.122656  125.000000\n",
              "max    93543.000000  574.000000   34.704958 -117.715380  574.000000"
            ]
          },
          "metadata": {
            "tags": []
          },
          "execution_count": 48
        }
      ]
    },
    {
      "cell_type": "markdown",
      "metadata": {
        "id": "N24QlvuImUYo"
      },
      "source": [
        "# Polygon Intersection"
      ]
    },
    {
      "cell_type": "code",
      "metadata": {
        "id": "qdGPNEKWmw-_",
        "outputId": "4d3c0f8e-504e-4340-f019-f3f1813aaba6",
        "colab": {
          "base_uri": "https://localhost:8080/",
          "height": 260,
          "referenced_widgets": [
            "1e855a2836624340bbd635ce5fa4eee2",
            "fba694293ac24283b49fd085540da00e",
            "fa2573c335f04202a763a41bae0db69c",
            "4cc4595e934c4417a525a7e3b366d29e",
            "09ea4bf41644411baea5e2663d9793c1",
            "b7d7857d8db2460c9ccca1c41ad995e3",
            "36422e1492d54e6c88e34d60e5cad65a",
            "948bce9df76c4b3aaff919656ce5334e"
          ]
        }
      },
      "source": [
        "from shapely.geometry import Point, Polygon\n",
        "neighborhood_shapes = neighborhood_shapes[['name','geometry']]\n",
        "\n",
        "neighborhood_data = pd.DataFrame(neighborhood_shapes['name'])\n",
        "neighborhood_data.rename(columns={'name': 'Neighborhood'}, inplace=True)\n",
        "neighborhood_data[\"NursingHomeBeds\"] = 0\n",
        "polys = neighborhood_shapes['geometry']\n",
        "\n",
        "for idx, row in tqdm(nursing_home_data.iterrows(), total=nursing_home_data.shape[0]):\n",
        "  mask = polys.contains(Point(row['Longitude'], row['Latitude']))\n",
        "  # This Census Tract from the Census Data belongs to this particular neighborhood\n",
        "  neighborhood_row = neighborhood_shapes[mask]\n",
        "  if (len(neighborhood_row) == 0):\n",
        "    # Unknown neighborhood - doesn't fall in any polygon\n",
        "    print(row)\n",
        "    continue\n",
        "  neighborhood = neighborhood_row.iloc[0]\n",
        "\n",
        "  # Aggregate number of beds\n",
        "  previous_value = neighborhood_data.loc[neighborhood_row.index, \"NursingHomeBeds\"].iloc[0]\n",
        "  neighborhood_data.at[neighborhood_row.index, \"NursingHomeBeds\"] = previous_value + row[\"Beds\"]"
      ],
      "execution_count": 49,
      "outputs": [
        {
          "output_type": "display_data",
          "data": {
            "application/vnd.jupyter.widget-view+json": {
              "model_id": "1e855a2836624340bbd635ce5fa4eee2",
              "version_minor": 0,
              "version_major": 2
            },
            "text/plain": [
              "HBox(children=(FloatProgress(value=0.0, max=812.0), HTML(value='')))"
            ]
          },
          "metadata": {
            "tags": []
          }
        },
        {
          "output_type": "stream",
          "text": [
            "NAME          WILLIAMS' GUEST HOME\n",
            "ADDRESS          1702 CRENSHAW BL.\n",
            "CITY                   LOS ANGELES\n",
            "STATE                           CA\n",
            "ZIP                          90019\n",
            "POPULATION                      11\n",
            "COUNTY                 LOS ANGELES\n",
            "Latitude                   34.0434\n",
            "Longitude                 -118.329\n",
            "Beds                            11\n",
            "Name: 556, dtype: object\n",
            "\n"
          ],
          "name": "stdout"
        }
      ]
    },
    {
      "cell_type": "code",
      "metadata": {
        "id": "XDfYr9J3Kf9X",
        "outputId": "188107dd-23f8-45af-be74-a2b795f468b6",
        "colab": {
          "base_uri": "https://localhost:8080/",
          "height": 203
        }
      },
      "source": [
        "neighborhood_data.head()"
      ],
      "execution_count": 50,
      "outputs": [
        {
          "output_type": "execute_result",
          "data": {
            "text/html": [
              "<div>\n",
              "<style scoped>\n",
              "    .dataframe tbody tr th:only-of-type {\n",
              "        vertical-align: middle;\n",
              "    }\n",
              "\n",
              "    .dataframe tbody tr th {\n",
              "        vertical-align: top;\n",
              "    }\n",
              "\n",
              "    .dataframe thead th {\n",
              "        text-align: right;\n",
              "    }\n",
              "</style>\n",
              "<table border=\"1\" class=\"dataframe\">\n",
              "  <thead>\n",
              "    <tr style=\"text-align: right;\">\n",
              "      <th></th>\n",
              "      <th>Neighborhood</th>\n",
              "      <th>NursingHomeBeds</th>\n",
              "    </tr>\n",
              "  </thead>\n",
              "  <tbody>\n",
              "    <tr>\n",
              "      <th>0</th>\n",
              "      <td>Acton</td>\n",
              "      <td>0</td>\n",
              "    </tr>\n",
              "    <tr>\n",
              "      <th>1</th>\n",
              "      <td>Adams-Normandie</td>\n",
              "      <td>90</td>\n",
              "    </tr>\n",
              "    <tr>\n",
              "      <th>2</th>\n",
              "      <td>Agoura Hills</td>\n",
              "      <td>185</td>\n",
              "    </tr>\n",
              "    <tr>\n",
              "      <th>3</th>\n",
              "      <td>Agua Dulce</td>\n",
              "      <td>0</td>\n",
              "    </tr>\n",
              "    <tr>\n",
              "      <th>4</th>\n",
              "      <td>Alhambra</td>\n",
              "      <td>1105</td>\n",
              "    </tr>\n",
              "  </tbody>\n",
              "</table>\n",
              "</div>"
            ],
            "text/plain": [
              "      Neighborhood  NursingHomeBeds\n",
              "0            Acton                0\n",
              "1  Adams-Normandie               90\n",
              "2     Agoura Hills              185\n",
              "3       Agua Dulce                0\n",
              "4         Alhambra             1105"
            ]
          },
          "metadata": {
            "tags": []
          },
          "execution_count": 50
        }
      ]
    },
    {
      "cell_type": "code",
      "metadata": {
        "id": "9EY-wNc5Kinn"
      },
      "source": [
        "# Ensure missing data is actually 0\n",
        "neighborhood_data.fillna(0)\n",
        "num_total_beds = sum(neighborhood_data['NursingHomeBeds'])\n",
        "neighborhood_data['% of NursingHomeBeds'] = neighborhood_data['NursingHomeBeds'] * 100.0 / num_total_beds\n",
        "\n",
        "neighborhood_data.to_csv('nursing_home_processed_data.csv', encoding='utf-8', index=False)"
      ],
      "execution_count": 51,
      "outputs": []
    }
  ]
}