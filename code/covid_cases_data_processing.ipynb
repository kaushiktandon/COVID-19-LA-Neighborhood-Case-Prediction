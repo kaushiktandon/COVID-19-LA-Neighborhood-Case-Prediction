{
 "cells": [
  {
   "cell_type": "code",
   "execution_count": 1,
   "metadata": {},
   "outputs": [],
   "source": [
    "#!pip install tqdm"
   ]
  },
  {
   "cell_type": "code",
   "execution_count": 2,
   "metadata": {},
   "outputs": [],
   "source": [
    "# import necessary packages\n",
    "%matplotlib inline\n",
    "import os\n",
    "import matplotlib.pyplot as plt\n",
    "import geopandas as gpd\n",
    "import earthpy as et\n",
    "import pandas as pd\n",
    "from tqdm.notebook import tqdm\n",
    "import numpy as np"
   ]
  },
  {
   "cell_type": "code",
   "execution_count": 3,
   "metadata": {},
   "outputs": [],
   "source": [
    "%matplotlib inline"
   ]
  },
  {
   "cell_type": "markdown",
   "metadata": {},
   "source": [
    "# Find Neighbors of All Cities"
   ]
  },
  {
   "cell_type": "code",
   "execution_count": 4,
   "metadata": {},
   "outputs": [],
   "source": [
    "# Load the shape file from github\n",
    "# !wget -Nq https://raw.githubusercontent.com/kaushiktandon/COVID-19-Vaccine-Allocation/master/shape/la_shape.zip\n",
    "# !unzip -nq la_shape -d shape"
   ]
  },
  {
   "cell_type": "code",
   "execution_count": 17,
   "metadata": {},
   "outputs": [
    {
     "data": {
      "text/html": [
       "<div>\n",
       "<style scoped>\n",
       "    .dataframe tbody tr th:only-of-type {\n",
       "        vertical-align: middle;\n",
       "    }\n",
       "\n",
       "    .dataframe tbody tr th {\n",
       "        vertical-align: top;\n",
       "    }\n",
       "\n",
       "    .dataframe thead th {\n",
       "        text-align: right;\n",
       "    }\n",
       "</style>\n",
       "<table border=\"1\" class=\"dataframe\">\n",
       "  <thead>\n",
       "    <tr style=\"text-align: right;\">\n",
       "      <th></th>\n",
       "      <th>slug</th>\n",
       "      <th>set</th>\n",
       "      <th>kind</th>\n",
       "      <th>external_i</th>\n",
       "      <th>name</th>\n",
       "      <th>display_na</th>\n",
       "      <th>sqmi</th>\n",
       "      <th>type</th>\n",
       "      <th>name_1</th>\n",
       "      <th>slug_1</th>\n",
       "      <th>geometry</th>\n",
       "    </tr>\n",
       "  </thead>\n",
       "  <tbody>\n",
       "    <tr>\n",
       "      <th>0</th>\n",
       "      <td>acton</td>\n",
       "      <td>L.A. County Neighborhoods (Current)</td>\n",
       "      <td>L.A. County Neighborhood (Current)</td>\n",
       "      <td>acton</td>\n",
       "      <td>Acton</td>\n",
       "      <td>Acton L.A. County Neighborhood (Current)</td>\n",
       "      <td>39.3391089485</td>\n",
       "      <td>unincorporated-area</td>\n",
       "      <td>None</td>\n",
       "      <td>None</td>\n",
       "      <td>POLYGON ((-118.20262 34.53899, -118.18947 34.5...</td>\n",
       "    </tr>\n",
       "    <tr>\n",
       "      <th>1</th>\n",
       "      <td>adams-normandie</td>\n",
       "      <td>L.A. County Neighborhoods (Current)</td>\n",
       "      <td>L.A. County Neighborhood (Current)</td>\n",
       "      <td>adams-normandie</td>\n",
       "      <td>Adams-Normandie</td>\n",
       "      <td>Adams-Normandie L.A. County Neighborhood (Curr...</td>\n",
       "      <td>0.805350187789</td>\n",
       "      <td>segment-of-a-city</td>\n",
       "      <td>None</td>\n",
       "      <td>None</td>\n",
       "      <td>POLYGON ((-118.30901 34.03741, -118.30041 34.0...</td>\n",
       "    </tr>\n",
       "    <tr>\n",
       "      <th>2</th>\n",
       "      <td>agoura-hills</td>\n",
       "      <td>L.A. County Neighborhoods (Current)</td>\n",
       "      <td>L.A. County Neighborhood (Current)</td>\n",
       "      <td>agoura-hills</td>\n",
       "      <td>Agoura Hills</td>\n",
       "      <td>Agoura Hills L.A. County Neighborhood (Current)</td>\n",
       "      <td>8.14676029818</td>\n",
       "      <td>standalone-city</td>\n",
       "      <td>None</td>\n",
       "      <td>None</td>\n",
       "      <td>POLYGON ((-118.76193 34.16820, -118.72632 34.1...</td>\n",
       "    </tr>\n",
       "    <tr>\n",
       "      <th>3</th>\n",
       "      <td>agua-dulce</td>\n",
       "      <td>L.A. County Neighborhoods (Current)</td>\n",
       "      <td>L.A. County Neighborhood (Current)</td>\n",
       "      <td>agua-dulce</td>\n",
       "      <td>Agua Dulce</td>\n",
       "      <td>Agua Dulce L.A. County Neighborhood (Current)</td>\n",
       "      <td>31.4626319451</td>\n",
       "      <td>unincorporated-area</td>\n",
       "      <td>None</td>\n",
       "      <td>None</td>\n",
       "      <td>POLYGON ((-118.25468 34.55830, -118.25551 34.5...</td>\n",
       "    </tr>\n",
       "    <tr>\n",
       "      <th>4</th>\n",
       "      <td>alhambra</td>\n",
       "      <td>L.A. County Neighborhoods (Current)</td>\n",
       "      <td>L.A. County Neighborhood (Current)</td>\n",
       "      <td>alhambra</td>\n",
       "      <td>Alhambra</td>\n",
       "      <td>Alhambra L.A. County Neighborhood (Current)</td>\n",
       "      <td>7.62381430605</td>\n",
       "      <td>standalone-city</td>\n",
       "      <td>None</td>\n",
       "      <td>None</td>\n",
       "      <td>POLYGON ((-118.12175 34.10504, -118.11687 34.1...</td>\n",
       "    </tr>\n",
       "  </tbody>\n",
       "</table>\n",
       "</div>"
      ],
      "text/plain": [
       "              slug                                  set  \\\n",
       "0            acton  L.A. County Neighborhoods (Current)   \n",
       "1  adams-normandie  L.A. County Neighborhoods (Current)   \n",
       "2     agoura-hills  L.A. County Neighborhoods (Current)   \n",
       "3       agua-dulce  L.A. County Neighborhoods (Current)   \n",
       "4         alhambra  L.A. County Neighborhoods (Current)   \n",
       "\n",
       "                                 kind       external_i             name  \\\n",
       "0  L.A. County Neighborhood (Current)            acton            Acton   \n",
       "1  L.A. County Neighborhood (Current)  adams-normandie  Adams-Normandie   \n",
       "2  L.A. County Neighborhood (Current)     agoura-hills     Agoura Hills   \n",
       "3  L.A. County Neighborhood (Current)       agua-dulce       Agua Dulce   \n",
       "4  L.A. County Neighborhood (Current)         alhambra         Alhambra   \n",
       "\n",
       "                                          display_na            sqmi  \\\n",
       "0           Acton L.A. County Neighborhood (Current)   39.3391089485   \n",
       "1  Adams-Normandie L.A. County Neighborhood (Curr...  0.805350187789   \n",
       "2    Agoura Hills L.A. County Neighborhood (Current)   8.14676029818   \n",
       "3      Agua Dulce L.A. County Neighborhood (Current)   31.4626319451   \n",
       "4        Alhambra L.A. County Neighborhood (Current)   7.62381430605   \n",
       "\n",
       "                  type name_1 slug_1  \\\n",
       "0  unincorporated-area   None   None   \n",
       "1    segment-of-a-city   None   None   \n",
       "2      standalone-city   None   None   \n",
       "3  unincorporated-area   None   None   \n",
       "4      standalone-city   None   None   \n",
       "\n",
       "                                            geometry  \n",
       "0  POLYGON ((-118.20262 34.53899, -118.18947 34.5...  \n",
       "1  POLYGON ((-118.30901 34.03741, -118.30041 34.0...  \n",
       "2  POLYGON ((-118.76193 34.16820, -118.72632 34.1...  \n",
       "3  POLYGON ((-118.25468 34.55830, -118.25551 34.5...  \n",
       "4  POLYGON ((-118.12175 34.10504, -118.11687 34.1...  "
      ]
     },
     "execution_count": 17,
     "metadata": {},
     "output_type": "execute_result"
    }
   ],
   "source": [
    "# la_shapes = gpd.read_file(\"shape/la_shape.shp\") # L.A. County neighborhoods shapefile\n",
    "la_shapes = gpd.read_file(\"shape/la_shape.shp\") # L.A. County neighborhoods shapefile\n",
    "la_shapes.head()"
   ]
  },
  {
   "cell_type": "code",
   "execution_count": 6,
   "metadata": {},
   "outputs": [],
   "source": [
    "# Graph neighbors of a city\n",
    "def graph_neighbors(df, index):\n",
    "    region = df.iloc[index,0]\n",
    "    df['plot_col'] = 0\n",
    "    df.plot_col = df.plot_col.mask(df['region'] == region, 1)\n",
    "\n",
    "    temp_n = df.iloc[index,-2].split(',')\n",
    "    temp_n = [n.strip() for n in temp_n]\n",
    "    for n in temp_n:\n",
    "        df.plot_col = df.plot_col.mask(df['region'] == n, 2)\n",
    "            \n",
    "    df.plot(column='plot_col', figsize=(10,10))"
   ]
  },
  {
   "cell_type": "code",
   "execution_count": 76,
   "metadata": {},
   "outputs": [],
   "source": [
    "# Graph neighbors of a city\n",
    "def graph_region(df, region):\n",
    "    df['plot_col'] = 0\n",
    "    df.plot_col = df.plot_col.mask(df['region'] == region, 1)\n",
    "\n",
    "    df.plot(column='plot_col', figsize=(10,10))"
   ]
  },
  {
   "cell_type": "code",
   "execution_count": 18,
   "metadata": {
    "scrolled": true
   },
   "outputs": [
    {
     "data": {
      "text/html": [
       "<div>\n",
       "<style scoped>\n",
       "    .dataframe tbody tr th:only-of-type {\n",
       "        vertical-align: middle;\n",
       "    }\n",
       "\n",
       "    .dataframe tbody tr th {\n",
       "        vertical-align: top;\n",
       "    }\n",
       "\n",
       "    .dataframe thead th {\n",
       "        text-align: right;\n",
       "    }\n",
       "</style>\n",
       "<table border=\"1\" class=\"dataframe\">\n",
       "  <thead>\n",
       "    <tr style=\"text-align: right;\">\n",
       "      <th></th>\n",
       "      <th>region</th>\n",
       "      <th>neighbors</th>\n",
       "      <th>geometry</th>\n",
       "    </tr>\n",
       "  </thead>\n",
       "  <tbody>\n",
       "    <tr>\n",
       "      <th>0</th>\n",
       "      <td>Acton</td>\n",
       "      <td>Agua Dulce, Angeles Crest, Palmdale, Southeast...</td>\n",
       "      <td>POLYGON ((-118.20262 34.53899, -118.18947 34.5...</td>\n",
       "    </tr>\n",
       "    <tr>\n",
       "      <th>1</th>\n",
       "      <td>Adams-Normandie</td>\n",
       "      <td>Exposition Park, Harvard Heights, Jefferson Pa...</td>\n",
       "      <td>POLYGON ((-118.30901 34.03741, -118.30041 34.0...</td>\n",
       "    </tr>\n",
       "    <tr>\n",
       "      <th>2</th>\n",
       "      <td>Agoura Hills</td>\n",
       "      <td>Calabasas, Unincorporated Santa Monica Mountai...</td>\n",
       "      <td>POLYGON ((-118.76193 34.16820, -118.72632 34.1...</td>\n",
       "    </tr>\n",
       "    <tr>\n",
       "      <th>3</th>\n",
       "      <td>Agua Dulce</td>\n",
       "      <td>Acton, Castaic Canyons, Palmdale, Tujunga Canyons</td>\n",
       "      <td>POLYGON ((-118.25468 34.55830, -118.25551 34.5...</td>\n",
       "    </tr>\n",
       "    <tr>\n",
       "      <th>4</th>\n",
       "      <td>Alhambra</td>\n",
       "      <td>El Sereno, Monterey Park, San Gabriel, San Mar...</td>\n",
       "      <td>POLYGON ((-118.12175 34.10504, -118.11687 34.1...</td>\n",
       "    </tr>\n",
       "  </tbody>\n",
       "</table>\n",
       "</div>"
      ],
      "text/plain": [
       "            region                                          neighbors  \\\n",
       "0            Acton  Agua Dulce, Angeles Crest, Palmdale, Southeast...   \n",
       "1  Adams-Normandie  Exposition Park, Harvard Heights, Jefferson Pa...   \n",
       "2     Agoura Hills  Calabasas, Unincorporated Santa Monica Mountai...   \n",
       "3       Agua Dulce  Acton, Castaic Canyons, Palmdale, Tujunga Canyons   \n",
       "4         Alhambra  El Sereno, Monterey Park, San Gabriel, San Mar...   \n",
       "\n",
       "                                            geometry  \n",
       "0  POLYGON ((-118.20262 34.53899, -118.18947 34.5...  \n",
       "1  POLYGON ((-118.30901 34.03741, -118.30041 34.0...  \n",
       "2  POLYGON ((-118.76193 34.16820, -118.72632 34.1...  \n",
       "3  POLYGON ((-118.25468 34.55830, -118.25551 34.5...  \n",
       "4  POLYGON ((-118.12175 34.10504, -118.11687 34.1...  "
      ]
     },
     "execution_count": 18,
     "metadata": {},
     "output_type": "execute_result"
    },
    {
     "data": {
      "image/png": "[encoded data removed]",
      "text/plain": [
       "<Figure size 720x720 with 1 Axes>"
      ]
     },
     "metadata": {
      "needs_background": "light"
     },
     "output_type": "display_data"
    }
   ],
   "source": [
    "### Get neighbors of every city\n",
    "la_neighbors = la_shapes.rename(columns={'name':'region'})\n",
    "la_neighbors[\"neighbors\"] = None  # add NEIGHBORS column\n",
    "la_neighbors[\"plot_col\"] = 0 # Column used to graph neighbors\n",
    "la_neighbors = la_neighbors[['region','geometry','neighbors','plot_col']]\n",
    "\n",
    "for index, row in la_neighbors.iterrows():   \n",
    "    # Get neighboring cities\n",
    "    neighbors = la_neighbors[~la_neighbors.geometry.disjoint(row.geometry)].region.tolist()\n",
    "    # Remove own name from list\n",
    "    if row['region'] in neighbors:\n",
    "        neighbors.remove(row['region'])\n",
    "    la_neighbors.at[index, \"neighbors\"] = \", \".join(neighbors)\n",
    "# la_neighbors.head()\n",
    "graph_neighbors(la_neighbors, 70)\n",
    "la_neighbors = la_neighbors[['region','neighbors','geometry']]\n",
    "la_neighbors.head()"
   ]
  },
  {
   "cell_type": "code",
   "execution_count": 8,
   "metadata": {},
   "outputs": [],
   "source": [
    "# la_neighbors.to_csv('../data/covid/la_neighbors.csv')"
   ]
  },
  {
   "cell_type": "markdown",
   "metadata": {},
   "source": [
    "# Aggregate Covid Data"
   ]
  },
  {
   "cell_type": "code",
   "execution_count": 9,
   "metadata": {},
   "outputs": [
    {
     "data": {
      "text/html": [
       "<div>\n",
       "<style scoped>\n",
       "    .dataframe tbody tr th:only-of-type {\n",
       "        vertical-align: middle;\n",
       "    }\n",
       "\n",
       "    .dataframe tbody tr th {\n",
       "        vertical-align: top;\n",
       "    }\n",
       "\n",
       "    .dataframe thead th {\n",
       "        text-align: right;\n",
       "    }\n",
       "</style>\n",
       "<table border=\"1\" class=\"dataframe\">\n",
       "  <thead>\n",
       "    <tr style=\"text-align: right;\">\n",
       "      <th></th>\n",
       "      <th>Time Stamp</th>\n",
       "      <th>Region</th>\n",
       "      <th>Latitude</th>\n",
       "      <th>Longitude</th>\n",
       "      <th>Number of cases</th>\n",
       "    </tr>\n",
       "  </thead>\n",
       "  <tbody>\n",
       "    <tr>\n",
       "      <th>0</th>\n",
       "      <td>03-16-2020</td>\n",
       "      <td>Alhambra</td>\n",
       "      <td>34.093042</td>\n",
       "      <td>-118.127060</td>\n",
       "      <td>2</td>\n",
       "    </tr>\n",
       "    <tr>\n",
       "      <th>1</th>\n",
       "      <td>03-16-2020</td>\n",
       "      <td>Arcadia</td>\n",
       "      <td>34.136208</td>\n",
       "      <td>-118.040150</td>\n",
       "      <td>1</td>\n",
       "    </tr>\n",
       "    <tr>\n",
       "      <th>2</th>\n",
       "      <td>03-16-2020</td>\n",
       "      <td>Beverly Hills</td>\n",
       "      <td>34.069650</td>\n",
       "      <td>-118.396306</td>\n",
       "      <td>1</td>\n",
       "    </tr>\n",
       "    <tr>\n",
       "      <th>3</th>\n",
       "      <td>03-16-2020</td>\n",
       "      <td>Boyle Heights</td>\n",
       "      <td>34.043689</td>\n",
       "      <td>-118.209768</td>\n",
       "      <td>5</td>\n",
       "    </tr>\n",
       "    <tr>\n",
       "      <th>4</th>\n",
       "      <td>03-16-2020</td>\n",
       "      <td>Carson</td>\n",
       "      <td>33.832204</td>\n",
       "      <td>-118.251755</td>\n",
       "      <td>1</td>\n",
       "    </tr>\n",
       "  </tbody>\n",
       "</table>\n",
       "</div>"
      ],
      "text/plain": [
       "   Time Stamp         Region   Latitude   Longitude  Number of cases\n",
       "0  03-16-2020       Alhambra  34.093042 -118.127060                2\n",
       "1  03-16-2020        Arcadia  34.136208 -118.040150                1\n",
       "2  03-16-2020  Beverly Hills  34.069650 -118.396306                1\n",
       "3  03-16-2020  Boyle Heights  34.043689 -118.209768                5\n",
       "4  03-16-2020         Carson  33.832204 -118.251755                1"
      ]
     },
     "execution_count": 9,
     "metadata": {},
     "output_type": "execute_result"
    }
   ],
   "source": [
    "!wget --directory-prefix=../data/covid -Nq https://raw.githubusercontent.com/ANRGUSC/lacounty_covid19_data/master/data/Covid-19.csv\n",
    "covid_filename = '../data/covid/Covid-19.csv'\n",
    "\n",
    "covid_df = pd.read_csv(covid_filename)\n",
    "covid_df.head()"
   ]
  },
  {
   "cell_type": "code",
   "execution_count": 10,
   "metadata": {
    "scrolled": true
   },
   "outputs": [
    {
     "data": {
      "text/plain": [
       "(261, 168)"
      ]
     },
     "execution_count": 10,
     "metadata": {},
     "output_type": "execute_result"
    }
   ],
   "source": [
    "census_data = pd.read_csv('../data/social_explorer_processed_data_only_percents.csv')\n",
    "census_data.shape"
   ]
  },
  {
   "cell_type": "code",
   "execution_count": 31,
   "metadata": {},
   "outputs": [],
   "source": [
    "# Get all regions that have data\n",
    "covid_unique_regions = pd.DataFrame(data=pd.unique(covid_df.Region),columns=['region'])\n",
    "census_unique_regions = pd.DataFrame(data=pd.unique(census_data.name),columns=['region'])\n",
    "regions = pd.merge(covid_unique_regions, la_neighbors[['region']], on='region', how='inner')\n",
    "regions = pd.merge(regions, census_unique_regions, on='region', how='inner')['region'].values"
   ]
  },
  {
   "cell_type": "markdown",
   "metadata": {},
   "source": [
    "## Month aggregate"
   ]
  },
  {
   "cell_type": "code",
   "execution_count": 32,
   "metadata": {},
   "outputs": [
    {
     "name": "stderr",
     "output_type": "stream",
     "text": [
      "<ipython-input-32-bfc1e52585cc>:2: SettingWithCopyWarning: \n",
      "A value is trying to be set on a copy of a slice from a DataFrame.\n",
      "Try using .loc[row_indexer,col_indexer] = value instead\n",
      "\n",
      "See the caveats in the documentation: https://pandas.pydata.org/pandas-docs/stable/user_guide/indexing.html#returning-a-view-versus-a-copy\n",
      "  covid_df_month['Time Stamp'] = pd.to_datetime(covid_df['Time Stamp'])\n"
     ]
    },
    {
     "data": {
      "text/html": [
       "<div>\n",
       "<style scoped>\n",
       "    .dataframe tbody tr th:only-of-type {\n",
       "        vertical-align: middle;\n",
       "    }\n",
       "\n",
       "    .dataframe tbody tr th {\n",
       "        vertical-align: top;\n",
       "    }\n",
       "\n",
       "    .dataframe thead th {\n",
       "        text-align: right;\n",
       "    }\n",
       "</style>\n",
       "<table border=\"1\" class=\"dataframe\">\n",
       "  <thead>\n",
       "    <tr style=\"text-align: right;\">\n",
       "      <th></th>\n",
       "      <th>month</th>\n",
       "      <th>region</th>\n",
       "      <th>cases</th>\n",
       "    </tr>\n",
       "  </thead>\n",
       "  <tbody>\n",
       "    <tr>\n",
       "      <th>0</th>\n",
       "      <td>3</td>\n",
       "      <td>Acton</td>\n",
       "      <td>0</td>\n",
       "    </tr>\n",
       "    <tr>\n",
       "      <th>1</th>\n",
       "      <td>3</td>\n",
       "      <td>Adams-Normandie</td>\n",
       "      <td>5</td>\n",
       "    </tr>\n",
       "    <tr>\n",
       "      <th>2</th>\n",
       "      <td>3</td>\n",
       "      <td>Agoura Hills</td>\n",
       "      <td>56</td>\n",
       "    </tr>\n",
       "    <tr>\n",
       "      <th>3</th>\n",
       "      <td>3</td>\n",
       "      <td>Alhambra</td>\n",
       "      <td>90</td>\n",
       "    </tr>\n",
       "    <tr>\n",
       "      <th>4</th>\n",
       "      <td>3</td>\n",
       "      <td>Alsace</td>\n",
       "      <td>0</td>\n",
       "    </tr>\n",
       "    <tr>\n",
       "      <th>...</th>\n",
       "      <td>...</td>\n",
       "      <td>...</td>\n",
       "      <td>...</td>\n",
       "    </tr>\n",
       "    <tr>\n",
       "      <th>1920</th>\n",
       "      <td>10</td>\n",
       "      <td>Willowbrook</td>\n",
       "      <td>2956</td>\n",
       "    </tr>\n",
       "    <tr>\n",
       "      <th>1921</th>\n",
       "      <td>10</td>\n",
       "      <td>Wilmington</td>\n",
       "      <td>21925</td>\n",
       "    </tr>\n",
       "    <tr>\n",
       "      <th>1922</th>\n",
       "      <td>10</td>\n",
       "      <td>Wilshire Center</td>\n",
       "      <td>13635</td>\n",
       "    </tr>\n",
       "    <tr>\n",
       "      <th>1923</th>\n",
       "      <td>10</td>\n",
       "      <td>Winnetka</td>\n",
       "      <td>15708</td>\n",
       "    </tr>\n",
       "    <tr>\n",
       "      <th>1924</th>\n",
       "      <td>10</td>\n",
       "      <td>Woodland Hills</td>\n",
       "      <td>11668</td>\n",
       "    </tr>\n",
       "  </tbody>\n",
       "</table>\n",
       "<p>1925 rows × 3 columns</p>\n",
       "</div>"
      ],
      "text/plain": [
       "      month           region  cases\n",
       "0         3            Acton      0\n",
       "1         3  Adams-Normandie      5\n",
       "2         3     Agoura Hills     56\n",
       "3         3         Alhambra     90\n",
       "4         3           Alsace      0\n",
       "...     ...              ...    ...\n",
       "1920     10      Willowbrook   2956\n",
       "1921     10       Wilmington  21925\n",
       "1922     10  Wilshire Center  13635\n",
       "1923     10         Winnetka  15708\n",
       "1924     10   Woodland Hills  11668\n",
       "\n",
       "[1925 rows x 3 columns]"
      ]
     },
     "execution_count": 32,
     "metadata": {},
     "output_type": "execute_result"
    }
   ],
   "source": [
    "covid_df_month = covid_df[['Time Stamp', 'Region', 'Number of cases']]\n",
    "covid_df_month['Time Stamp'] = pd.to_datetime(covid_df['Time Stamp'])\n",
    "covid_df_month = covid_df_month.set_index('Time Stamp')\n",
    "covid_df_month = covid_df_month.groupby([pd.Grouper(freq='M'), 'Region']).sum()\n",
    "covid_df_month = covid_df_month.reset_index(level=['Time Stamp','Region']).rename(columns={'Time Stamp': 'month', 'Region':'region', 'Number of cases':'cases'})\n",
    "covid_df_month.month = covid_df_month.month.dt.month\n",
    "covid_df_month"
   ]
  },
  {
   "cell_type": "markdown",
   "metadata": {},
   "source": [
    "### Data w/o census"
   ]
  },
  {
   "cell_type": "code",
   "execution_count": 14,
   "metadata": {},
   "outputs": [
    {
     "data": {
      "text/plain": [
       "array([[3.00000000e+00, 9.00000000e+01, 1.16000000e+02, 1.24070000e+04,\n",
       "        5.52000000e+02],\n",
       "       [3.00000000e+00, 7.10000000e+01, 5.50000000e+01, 1.24070000e+04,\n",
       "        3.72000000e+02],\n",
       "       [3.00000000e+00, 2.11000000e+02, 1.35840000e+03, 1.24070000e+04,\n",
       "        1.82700000e+03],\n",
       "       ...,\n",
       "       [8.00000000e+00, 3.01590000e+04, 2.54997750e+05, 6.44468600e+06,\n",
       "        3.37580000e+04],\n",
       "       [8.00000000e+00, 7.30500000e+03, 2.07651600e+05, 6.44468600e+06,\n",
       "        7.98900000e+03],\n",
       "       [8.00000000e+00, 4.44410000e+04, 1.69757333e+05, 6.44468600e+06,\n",
       "        5.14080000e+04]])"
      ]
     },
     "execution_count": 14,
     "metadata": {},
     "output_type": "execute_result"
    }
   ],
   "source": [
    "month_data_no_census = np.array([])\n",
    "# List of months\n",
    "time_frames = pd.unique(covid_df_month.month)\n",
    "# List of month case sums\n",
    "covid_month_gp = covid_df_month.groupby('month').sum().reset_index()\n",
    "\n",
    "for i in range(len(time_frames)-2): ## Need to ignore last month since data for last month is not complete\n",
    "    time_frame = time_frames[i]\n",
    "    for region in regions:\n",
    "        # Build current row of data\n",
    "        row_data = np.array([time_frame])\n",
    "        # Get cases for current region\n",
    "        region_cases = covid_df_month.loc[(covid_df_month.month == time_frame) & (covid_df_month.region == region)]['cases'].values\n",
    "        if len(region_cases) == 0:\n",
    "            region_cases = 0\n",
    "        else:\n",
    "            region_cases = region_cases[0]\n",
    "        row_data = np.append(row_data, [region_cases])\n",
    "        \n",
    "        # Get neighbors cases, fill missing neighbor data with avg of other neighbors\n",
    "        neighbors = (la_neighbors[la_neighbors['region']==region]['neighbors']).values[0]\n",
    "        neighbors = neighbors.split(',')\n",
    "        neighbors = [neighbor.strip() for neighbor in neighbors]\n",
    "        neighbors_cases = 0\n",
    "        no_data_count = 0\n",
    "        for neighbor in neighbors:\n",
    "            neighbor_cases_arr= covid_df_month.loc[(covid_df_month.month == time_frame) & (covid_df_month.region == neighbor)]['cases'].values\n",
    "            if len(neighbor_cases_arr) != 0:\n",
    "                neighbors_cases += neighbor_cases_arr[0]\n",
    "            else:\n",
    "                no_data_count += 1\n",
    "        if no_data_count == len(neighbors):\n",
    "            neighbors_cases += region_cases * len(neighbors)\n",
    "        else:\n",
    "            neighbors_cases += (no_data_count/(len(neighbors)-no_data_count))*neighbors_cases ## Use avg to fill missing data and add to neighbors_cases\n",
    "        row_data = np.append(row_data, [neighbors_cases])\n",
    "        \n",
    "        # Get cases of the entire LA region\n",
    "        total_cases = covid_month_gp[covid_month_gp['month'] == time_frame]['cases'].values[0]\n",
    "        row_data = np.append(row_data, [total_cases])\n",
    "        \n",
    "        # Get cases for next time_frame\n",
    "        next_cases = covid_df_month.loc[(covid_df_month.month == time_frames[i+1]) & (covid_df_month.region == region)]['cases'].values\n",
    "        # This data is not available yet\n",
    "        if len(next_cases) == 0:\n",
    "            next_cases = 0\n",
    "        else:\n",
    "            next_cases = next_cases[0]\n",
    "        row_data = np.append(row_data, [next_cases])\n",
    "        \n",
    "        # Add data to numpy arr\n",
    "        if len(month_data_no_census.shape) == 1:\n",
    "            month_data_no_census = np.array([row_data])\n",
    "        else:\n",
    "            month_data_no_census = np.append(month_data_no_census, [row_data], axis=0)\n",
    "month_data_no_census"
   ]
  },
  {
   "cell_type": "code",
   "execution_count": 15,
   "metadata": {},
   "outputs": [
    {
     "data": {
      "text/plain": [
       "(1110, 5)"
      ]
     },
     "execution_count": 15,
     "metadata": {},
     "output_type": "execute_result"
    }
   ],
   "source": [
    "month_data_no_census.shape"
   ]
  },
  {
   "cell_type": "code",
   "execution_count": 19,
   "metadata": {},
   "outputs": [
    {
     "data": {
      "text/plain": [
       "array([[3.00000000e+00, 9.00000000e+01, 1.16000000e+02, ...,\n",
       "        2.21225405e+00, 1.25055221e+00, 5.52000000e+02],\n",
       "       [3.00000000e+00, 7.10000000e+01, 5.50000000e+01, ...,\n",
       "        2.24484182e+00, 2.20632737e+00, 3.72000000e+02],\n",
       "       [3.00000000e+00, 2.11000000e+02, 1.35840000e+03, ...,\n",
       "        1.83572923e+00, 6.07410410e-02, 1.82700000e+03],\n",
       "       ...,\n",
       "       [8.00000000e+00, 3.01590000e+04, 2.54997750e+05, ...,\n",
       "        1.72302112e+00, 8.23940925e-01, 3.37580000e+04],\n",
       "       [8.00000000e+00, 7.30500000e+03, 2.07651600e+05, ...,\n",
       "        7.89447387e-01, 4.89657240e-01, 7.98900000e+03],\n",
       "       [8.00000000e+00, 4.44410000e+04, 1.69757333e+05, ...,\n",
       "        8.83993504e+00, 6.58758738e+00, 5.14080000e+04]])"
      ]
     },
     "execution_count": 19,
     "metadata": {},
     "output_type": "execute_result"
    }
   ],
   "source": [
    "month_data_with_census = np.array([])\n",
    "# List of months\n",
    "time_frames = pd.unique(covid_df_month.month)\n",
    "# List of month case sums\n",
    "covid_month_gp = covid_df_month.groupby('month').sum().reset_index()\n",
    "\n",
    "for i in range(len(time_frames)-2): ## Need to ignore last month since data for last month is not complete\n",
    "    time_frame = time_frames[i]\n",
    "    for region in regions:\n",
    "        # Build current row of data\n",
    "        row_data = np.array([time_frame])\n",
    "        # Get cases for current region\n",
    "        region_cases = covid_df_month.loc[(covid_df_month.month == time_frame) & (covid_df_month.region == region)]['cases'].values\n",
    "        if len(region_cases) == 0:\n",
    "            region_cases = 0\n",
    "        else:\n",
    "            region_cases = region_cases[0]\n",
    "        row_data = np.append(row_data, [region_cases])\n",
    "        \n",
    "        # Get neighbors cases, fill missing neighbor data with avg of other neighbors\n",
    "        neighbors = (la_neighbors[la_neighbors['region']==region]['neighbors']).values[0]\n",
    "        neighbors = neighbors.split(',')\n",
    "        neighbors = [neighbor.strip() for neighbor in neighbors]\n",
    "        neighbors_cases = 0\n",
    "        no_data_count = 0\n",
    "        for neighbor in neighbors:\n",
    "            neighbor_cases_arr= covid_df_month.loc[(covid_df_month.month == time_frame) & (covid_df_month.region == neighbor)]['cases'].values\n",
    "            if len(neighbor_cases_arr) != 0:\n",
    "                neighbors_cases += neighbor_cases_arr[0]\n",
    "            else:\n",
    "                no_data_count += 1\n",
    "        if no_data_count == len(neighbors):\n",
    "            neighbors_cases += region_cases * len(neighbors)\n",
    "        else:\n",
    "            neighbors_cases += (no_data_count/(len(neighbors)-no_data_count))*neighbors_cases ## Use avg to fill missing data and add to neighbors_cases\n",
    "        row_data = np.append(row_data, [neighbors_cases])\n",
    "        \n",
    "        # Get cases of the entire LA region\n",
    "        total_cases = covid_month_gp[covid_month_gp['month'] == time_frame]['cases'].values[0]\n",
    "        row_data = np.append(row_data, [total_cases])\n",
    "        \n",
    "        # Get census data\n",
    "        census_row = census_data[census_data['name']==region].values[0][1:]\n",
    "        row_data = np.append(row_data, census_row)\n",
    "        \n",
    "        # Get cases for next time_frame\n",
    "        next_cases = covid_df_month.loc[(covid_df_month.month == time_frames[i+1]) & (covid_df_month.region == region)]['cases'].values\n",
    "        # This data is not available yet\n",
    "        if len(next_cases) == 0:\n",
    "            next_cases = 0\n",
    "        else:\n",
    "            next_cases = next_cases[0]\n",
    "        row_data = np.append(row_data, [next_cases])\n",
    "        \n",
    "        # Add data to numpy arr\n",
    "        if len(month_data_with_census.shape) == 1:\n",
    "            month_data_with_census = np.array([row_data])\n",
    "        else:\n",
    "            month_data_with_census = np.append(month_data_with_census, [row_data], axis=0)\n",
    "month_data_with_census = month_data_with_census.astype(float)\n",
    "month_data_with_census"
   ]
  },
  {
   "cell_type": "code",
   "execution_count": 20,
   "metadata": {},
   "outputs": [
    {
     "data": {
      "text/plain": [
       "(1110, 172)"
      ]
     },
     "execution_count": 20,
     "metadata": {},
     "output_type": "execute_result"
    }
   ],
   "source": [
    "month_data_with_census.shape"
   ]
  },
  {
   "cell_type": "code",
   "execution_count": 21,
   "metadata": {},
   "outputs": [],
   "source": [
    "np.save('../data/covid/covid_month_no_census', month_data_no_census)\n",
    "np.save('../data/covid/covid_month_with_census', month_data_with_census)"
   ]
  },
  {
   "cell_type": "markdown",
   "metadata": {},
   "source": [
    "### Week Aggregate"
   ]
  },
  {
   "cell_type": "code",
   "execution_count": 21,
   "metadata": {
    "scrolled": true
   },
   "outputs": [
    {
     "name": "stderr",
     "output_type": "stream",
     "text": [
      "<ipython-input-21-45b2c6178f57>:2: SettingWithCopyWarning: \n",
      "A value is trying to be set on a copy of a slice from a DataFrame.\n",
      "Try using .loc[row_indexer,col_indexer] = value instead\n",
      "\n",
      "See the caveats in the documentation: https://pandas.pydata.org/pandas-docs/stable/user_guide/indexing.html#returning-a-view-versus-a-copy\n",
      "  covid_df_week['Time Stamp'] = pd.to_datetime(covid_df['Time Stamp'])\n",
      "<ipython-input-21-45b2c6178f57>:6: FutureWarning: Series.dt.weekofyear and Series.dt.week have been deprecated.  Please use Series.dt.isocalendar().week instead.\n",
      "  covid_df_week.week = covid_df_week.week.dt.week\n"
     ]
    },
    {
     "data": {
      "text/html": [
       "<div>\n",
       "<style scoped>\n",
       "    .dataframe tbody tr th:only-of-type {\n",
       "        vertical-align: middle;\n",
       "    }\n",
       "\n",
       "    .dataframe tbody tr th {\n",
       "        vertical-align: top;\n",
       "    }\n",
       "\n",
       "    .dataframe thead th {\n",
       "        text-align: right;\n",
       "    }\n",
       "</style>\n",
       "<table border=\"1\" class=\"dataframe\">\n",
       "  <thead>\n",
       "    <tr style=\"text-align: right;\">\n",
       "      <th></th>\n",
       "      <th>week</th>\n",
       "      <th>region</th>\n",
       "      <th>cases</th>\n",
       "    </tr>\n",
       "  </thead>\n",
       "  <tbody>\n",
       "    <tr>\n",
       "      <th>0</th>\n",
       "      <td>12</td>\n",
       "      <td>Alhambra</td>\n",
       "      <td>15</td>\n",
       "    </tr>\n",
       "    <tr>\n",
       "      <th>1</th>\n",
       "      <td>12</td>\n",
       "      <td>Altadena</td>\n",
       "      <td>9</td>\n",
       "    </tr>\n",
       "    <tr>\n",
       "      <th>2</th>\n",
       "      <td>12</td>\n",
       "      <td>Arcadia</td>\n",
       "      <td>12</td>\n",
       "    </tr>\n",
       "    <tr>\n",
       "      <th>3</th>\n",
       "      <td>12</td>\n",
       "      <td>Athens</td>\n",
       "      <td>1</td>\n",
       "    </tr>\n",
       "    <tr>\n",
       "      <th>4</th>\n",
       "      <td>12</td>\n",
       "      <td>Baldwin Hills</td>\n",
       "      <td>9</td>\n",
       "    </tr>\n",
       "    <tr>\n",
       "      <th>...</th>\n",
       "      <td>...</td>\n",
       "      <td>...</td>\n",
       "      <td>...</td>\n",
       "    </tr>\n",
       "    <tr>\n",
       "      <th>7051</th>\n",
       "      <td>41</td>\n",
       "      <td>Willowbrook</td>\n",
       "      <td>1728</td>\n",
       "    </tr>\n",
       "    <tr>\n",
       "      <th>7052</th>\n",
       "      <td>41</td>\n",
       "      <td>Wilmington</td>\n",
       "      <td>12840</td>\n",
       "    </tr>\n",
       "    <tr>\n",
       "      <th>7053</th>\n",
       "      <td>41</td>\n",
       "      <td>Wilshire Center</td>\n",
       "      <td>7991</td>\n",
       "    </tr>\n",
       "    <tr>\n",
       "      <th>7054</th>\n",
       "      <td>41</td>\n",
       "      <td>Winnetka</td>\n",
       "      <td>9229</td>\n",
       "    </tr>\n",
       "    <tr>\n",
       "      <th>7055</th>\n",
       "      <td>41</td>\n",
       "      <td>Woodland Hills</td>\n",
       "      <td>6880</td>\n",
       "    </tr>\n",
       "  </tbody>\n",
       "</table>\n",
       "<p>7056 rows × 3 columns</p>\n",
       "</div>"
      ],
      "text/plain": [
       "      week           region  cases\n",
       "0       12         Alhambra     15\n",
       "1       12         Altadena      9\n",
       "2       12          Arcadia     12\n",
       "3       12           Athens      1\n",
       "4       12    Baldwin Hills      9\n",
       "...    ...              ...    ...\n",
       "7051    41      Willowbrook   1728\n",
       "7052    41       Wilmington  12840\n",
       "7053    41  Wilshire Center   7991\n",
       "7054    41         Winnetka   9229\n",
       "7055    41   Woodland Hills   6880\n",
       "\n",
       "[7056 rows x 3 columns]"
      ]
     },
     "execution_count": 21,
     "metadata": {},
     "output_type": "execute_result"
    }
   ],
   "source": [
    "covid_df_week = covid_df[['Time Stamp', 'Region', 'Number of cases']]\n",
    "covid_df_week['Time Stamp'] = pd.to_datetime(covid_df['Time Stamp'])\n",
    "covid_df_week = covid_df_week.set_index('Time Stamp')\n",
    "covid_df_week = covid_df_week.groupby([pd.Grouper(freq='W'), 'Region']).sum()\n",
    "covid_df_week = covid_df_week.reset_index(level=['Time Stamp','Region']).rename(columns={'Time Stamp': 'week', 'Region':'region', 'Number of cases':'cases'})\n",
    "covid_df_week.week = covid_df_week.week.dt.week\n",
    "covid_df_week"
   ]
  },
  {
   "cell_type": "code",
   "execution_count": 22,
   "metadata": {},
   "outputs": [
    {
     "data": {
      "text/plain": [
       "array([[1.20000000e+01, 1.50000000e+01, 0.00000000e+00, 1.29500000e+03,\n",
       "        5.10000000e+01],\n",
       "       [1.20000000e+01, 1.20000000e+01, 1.20000000e+02, 1.29500000e+03,\n",
       "        4.00000000e+01],\n",
       "       [1.20000000e+01, 3.00000000e+01, 1.46933333e+03, 1.29500000e+03,\n",
       "        1.18000000e+02],\n",
       "       ...,\n",
       "       [3.90000000e+01, 8.07600000e+03, 5.65320000e+04, 1.72815000e+06,\n",
       "        8.29000000e+03],\n",
       "       [3.90000000e+01, 1.94400000e+03, 1.16640000e+04, 1.72815000e+06,\n",
       "        2.00600000e+03],\n",
       "       [3.90000000e+01, 1.23280000e+04, 4.93120000e+04, 1.72815000e+06,\n",
       "        1.25980000e+04]])"
      ]
     },
     "execution_count": 22,
     "metadata": {},
     "output_type": "execute_result"
    }
   ],
   "source": [
    "week_data_no_census = np.array([])\n",
    "# List of months\n",
    "time_frames = pd.unique(covid_df_week.week)\n",
    "# List of month case sums\n",
    "covid_week_gp = covid_df_week.groupby('week').sum().reset_index()\n",
    "\n",
    "for i in range(len(time_frames)-2): ## Need to ignore last week since data for last week is not complete\n",
    "    time_frame = time_frames[i]\n",
    "    for region in regions:\n",
    "        # Build current row of data\n",
    "        row_data = np.array([time_frame])\n",
    "        \n",
    "        # Get cases for current region\n",
    "        region_cases = covid_df_week.loc[(covid_df_week.week == time_frame) & (covid_df_week.region == region)]['cases'].values\n",
    "        if len(region_cases) == 0:\n",
    "            region_cases = 0\n",
    "        else:\n",
    "            region_cases = region_cases[0]\n",
    "        row_data = np.append(row_data, [region_cases])\n",
    "        \n",
    "        # Get neighbors cases\n",
    "        neighbors = (la_neighbors[la_neighbors['region']==region]['neighbors']).values[0]\n",
    "        neighbors = neighbors.split(',')\n",
    "        neighbors = [neighbor.strip() for neighbor in neighbors]\n",
    "        neighbors_cases = 0\n",
    "        no_data_count = 0\n",
    "        for neighbor in neighbors:\n",
    "            neighbor_cases_arr= covid_df_month.loc[(covid_df_week.week == time_frame) & (covid_df_week.region == neighbor)]['cases'].values\n",
    "            if len(neighbor_cases_arr) != 0:\n",
    "                neighbors_cases += neighbor_cases_arr[0]\n",
    "            else:\n",
    "                no_data_count += 1\n",
    "        if no_data_count == len(neighbors):\n",
    "            neighbors_cases += region_cases * len(neighbors) ## All neighbor data missing, fill with region itself\n",
    "        else:\n",
    "            neighbors_cases += (no_data_count/(len(neighbors)-no_data_count))*neighbors_cases ## Use avg to fill missing data and add to neighbors_cases\n",
    "        row_data = np.append(row_data, [neighbors_cases])\n",
    "        \n",
    "        # Get cases of the entire LA region\n",
    "        total_cases = covid_week_gp[covid_week_gp['week'] == time_frame]['cases'].values[0]\n",
    "        row_data = np.append(row_data, [total_cases])\n",
    "        \n",
    "        # Get cases for next time_frame\n",
    "        next_cases = covid_df_week.loc[(covid_df_week.week == time_frames[i+1]) & (covid_df_week.region == region)]['cases'].values\n",
    "        # This data is not available yet\n",
    "        if len(next_cases) == 0:\n",
    "            next_cases = 0\n",
    "        else:\n",
    "            next_cases = next_cases[0]\n",
    "        row_data = np.append(row_data, [next_cases])\n",
    "\n",
    "        # Add data to numpy arr\n",
    "        if len(week_data_no_census.shape) == 1:\n",
    "            week_data_no_census = np.array([row_data])\n",
    "        else:\n",
    "            week_data_no_census = np.append(week_data_no_census, [row_data], axis=0)\n",
    "week_data_no_census"
   ]
  },
  {
   "cell_type": "code",
   "execution_count": 23,
   "metadata": {},
   "outputs": [
    {
     "data": {
      "text/plain": [
       "(5180, 5)"
      ]
     },
     "execution_count": 23,
     "metadata": {},
     "output_type": "execute_result"
    }
   ],
   "source": [
    "week_data_no_census.shape"
   ]
  },
  {
   "cell_type": "code",
   "execution_count": 24,
   "metadata": {},
   "outputs": [
    {
     "data": {
      "text/plain": [
       "array([[12.0, 15.0, 0.0, ..., 2.212254052, 1.250552214, 51],\n",
       "       [12, 12, 120, ..., 2.244841816, 2.206327373, 40],\n",
       "       [12.0, 30.0, 1469.3333333333335, ..., 1.83572923,\n",
       "        0.060741040999999996, 118],\n",
       "       ...,\n",
       "       [39, 8076, 56532, ..., 1.7230211169999998, 0.823940925, 8290],\n",
       "       [39, 1944, 11664, ..., 0.7894473870000001, 0.48965724, 2006],\n",
       "       [39, 12328, 49312, ..., 8.839935042, 6.587587376, 12598]],\n",
       "      dtype=object)"
      ]
     },
     "execution_count": 24,
     "metadata": {},
     "output_type": "execute_result"
    }
   ],
   "source": [
    "week_data_with_census = np.array([])\n",
    "# List of months\n",
    "time_frames = pd.unique(covid_df_week.week)\n",
    "# List of month case sums\n",
    "covid_week_gp = covid_df_week.groupby('week').sum().reset_index()\n",
    "\n",
    "for i in range(len(time_frames)-2): ## Need to ignore last week since data for last week is not complete\n",
    "    time_frame = time_frames[i]\n",
    "    for region in regions:\n",
    "        # Build current row of data\n",
    "        row_data = np.array([time_frame])\n",
    "        \n",
    "        # Get cases for current region\n",
    "        region_cases = covid_df_week.loc[(covid_df_week.week == time_frame) & (covid_df_week.region == region)]['cases'].values\n",
    "        if len(region_cases) == 0:\n",
    "            region_cases = 0\n",
    "        else:\n",
    "            region_cases = region_cases[0]\n",
    "        row_data = np.append(row_data, [region_cases])\n",
    "        \n",
    "        # Get neighbors cases\n",
    "        neighbors = (la_neighbors[la_neighbors['region']==region]['neighbors']).values[0]\n",
    "        neighbors = neighbors.split(',')\n",
    "        neighbors = [neighbor.strip() for neighbor in neighbors]\n",
    "        neighbors_cases = 0\n",
    "        no_data_count = 0\n",
    "        for neighbor in neighbors:\n",
    "            neighbor_cases_arr= covid_df_month.loc[(covid_df_week.week == time_frame) & (covid_df_week.region == neighbor)]['cases'].values\n",
    "            if len(neighbor_cases_arr) != 0:\n",
    "                neighbors_cases += neighbor_cases_arr[0]\n",
    "            else:\n",
    "                no_data_count += 1\n",
    "        if no_data_count == len(neighbors):\n",
    "            neighbors_cases += region_cases * len(neighbors) ## All neighbor data missing, fill with region itself\n",
    "        else:\n",
    "            neighbors_cases += (no_data_count/(len(neighbors)-no_data_count))*neighbors_cases ## Use avg to fill missing data and add to neighbors_cases\n",
    "        row_data = np.append(row_data, [neighbors_cases])\n",
    "        \n",
    "        # Get cases of the entire LA region\n",
    "        total_cases = covid_week_gp[covid_week_gp['week'] == time_frame]['cases'].values[0]\n",
    "        row_data = np.append(row_data, [total_cases])\n",
    "        \n",
    "        # Get census data\n",
    "        census_row = census_data[census_data['name']==region].values[0][1:]\n",
    "        row_data = np.append(row_data, census_row)\n",
    "        \n",
    "        # Get cases for next time_frame\n",
    "        next_cases = covid_df_week.loc[(covid_df_week.week == time_frames[i+1]) & (covid_df_week.region == region)]['cases'].values\n",
    "        # This data is not available yet\n",
    "        if len(next_cases) == 0:\n",
    "            next_cases = 0\n",
    "        else:\n",
    "            next_cases = next_cases[0]\n",
    "        row_data = np.append(row_data, [next_cases])\n",
    "\n",
    "        # Add data to numpy arr\n",
    "        if len(week_data_with_census.shape) == 1:\n",
    "            week_data_with_census = np.array([row_data])\n",
    "        else:\n",
    "            week_data_with_census = np.append(week_data_with_census, [row_data], axis=0)\n",
    "week_data_with_census"
   ]
  },
  {
   "cell_type": "code",
   "execution_count": 25,
   "metadata": {},
   "outputs": [
    {
     "data": {
      "text/plain": [
       "(5180, 172)"
      ]
     },
     "execution_count": 25,
     "metadata": {},
     "output_type": "execute_result"
    }
   ],
   "source": [
    "week_data_with_census.shape"
   ]
  },
  {
   "cell_type": "code",
   "execution_count": 26,
   "metadata": {},
   "outputs": [],
   "source": [
    "np.save('../data/covid/covid_week_no_census', week_data_no_census)\n",
    "np.save('../data/covid/covid_week_with_census', week_data_with_census)"
   ]
  },
  {
   "cell_type": "markdown",
   "metadata": {},
   "source": [
    "### 3-month aggregate"
   ]
  },
  {
   "cell_type": "code",
   "execution_count": 27,
   "metadata": {
    "scrolled": true
   },
   "outputs": [
    {
     "name": "stderr",
     "output_type": "stream",
     "text": [
      "<ipython-input-27-84e9f6ee84a1>:2: SettingWithCopyWarning: \n",
      "A value is trying to be set on a copy of a slice from a DataFrame.\n",
      "Try using .loc[row_indexer,col_indexer] = value instead\n",
      "\n",
      "See the caveats in the documentation: https://pandas.pydata.org/pandas-docs/stable/user_guide/indexing.html#returning-a-view-versus-a-copy\n",
      "  covid_df_3month['Time Stamp'] = pd.to_datetime(covid_df['Time Stamp'])\n"
     ]
    },
    {
     "data": {
      "text/html": [
       "<div>\n",
       "<style scoped>\n",
       "    .dataframe tbody tr th:only-of-type {\n",
       "        vertical-align: middle;\n",
       "    }\n",
       "\n",
       "    .dataframe tbody tr th {\n",
       "        vertical-align: top;\n",
       "    }\n",
       "\n",
       "    .dataframe thead th {\n",
       "        text-align: right;\n",
       "    }\n",
       "</style>\n",
       "<table border=\"1\" class=\"dataframe\">\n",
       "  <thead>\n",
       "    <tr style=\"text-align: right;\">\n",
       "      <th></th>\n",
       "      <th>month</th>\n",
       "      <th>region</th>\n",
       "      <th>cases</th>\n",
       "    </tr>\n",
       "  </thead>\n",
       "  <tbody>\n",
       "    <tr>\n",
       "      <th>0</th>\n",
       "      <td>3</td>\n",
       "      <td>Acton</td>\n",
       "      <td>0</td>\n",
       "    </tr>\n",
       "    <tr>\n",
       "      <th>1</th>\n",
       "      <td>3</td>\n",
       "      <td>Adams-Normandie</td>\n",
       "      <td>5</td>\n",
       "    </tr>\n",
       "    <tr>\n",
       "      <th>2</th>\n",
       "      <td>3</td>\n",
       "      <td>Agoura Hills</td>\n",
       "      <td>56</td>\n",
       "    </tr>\n",
       "    <tr>\n",
       "      <th>3</th>\n",
       "      <td>3</td>\n",
       "      <td>Alhambra</td>\n",
       "      <td>90</td>\n",
       "    </tr>\n",
       "    <tr>\n",
       "      <th>4</th>\n",
       "      <td>3</td>\n",
       "      <td>Alsace</td>\n",
       "      <td>0</td>\n",
       "    </tr>\n",
       "    <tr>\n",
       "      <th>...</th>\n",
       "      <td>...</td>\n",
       "      <td>...</td>\n",
       "      <td>...</td>\n",
       "    </tr>\n",
       "    <tr>\n",
       "      <th>960</th>\n",
       "      <td>12</td>\n",
       "      <td>Willowbrook</td>\n",
       "      <td>2708</td>\n",
       "    </tr>\n",
       "    <tr>\n",
       "      <th>961</th>\n",
       "      <td>12</td>\n",
       "      <td>Wilmington</td>\n",
       "      <td>20071</td>\n",
       "    </tr>\n",
       "    <tr>\n",
       "      <th>962</th>\n",
       "      <td>12</td>\n",
       "      <td>Wilshire Center</td>\n",
       "      <td>12475</td>\n",
       "    </tr>\n",
       "    <tr>\n",
       "      <th>963</th>\n",
       "      <td>12</td>\n",
       "      <td>Winnetka</td>\n",
       "      <td>14354</td>\n",
       "    </tr>\n",
       "    <tr>\n",
       "      <th>964</th>\n",
       "      <td>12</td>\n",
       "      <td>Woodland Hills</td>\n",
       "      <td>10648</td>\n",
       "    </tr>\n",
       "  </tbody>\n",
       "</table>\n",
       "<p>965 rows × 3 columns</p>\n",
       "</div>"
      ],
      "text/plain": [
       "     month           region  cases\n",
       "0        3            Acton      0\n",
       "1        3  Adams-Normandie      5\n",
       "2        3     Agoura Hills     56\n",
       "3        3         Alhambra     90\n",
       "4        3           Alsace      0\n",
       "..     ...              ...    ...\n",
       "960     12      Willowbrook   2708\n",
       "961     12       Wilmington  20071\n",
       "962     12  Wilshire Center  12475\n",
       "963     12         Winnetka  14354\n",
       "964     12   Woodland Hills  10648\n",
       "\n",
       "[965 rows x 3 columns]"
      ]
     },
     "execution_count": 27,
     "metadata": {},
     "output_type": "execute_result"
    }
   ],
   "source": [
    "covid_df_3month = covid_df[['Time Stamp', 'Region', 'Number of cases']]\n",
    "covid_df_3month['Time Stamp'] = pd.to_datetime(covid_df['Time Stamp'])\n",
    "covid_df_3month = covid_df_3month.set_index('Time Stamp')\n",
    "covid_df_3month = covid_df_3month.groupby([pd.Grouper(freq='3M'), 'Region']).sum()\n",
    "covid_df_3month = covid_df_3month.reset_index(level=['Time Stamp','Region']).rename(columns={'Time Stamp': 'month', 'Region':'region', 'Number of cases':'cases'})\n",
    "covid_df_3month.month = covid_df_3month.month.dt.month\n",
    "covid_df_3month\n"
   ]
  },
  {
   "cell_type": "code",
   "execution_count": 28,
   "metadata": {},
   "outputs": [
    {
     "data": {
      "text/plain": [
       "array([[3.0000000e+00, 9.0000000e+01, 1.1600000e+02, 1.2407000e+04,\n",
       "        1.3784000e+04],\n",
       "       [3.0000000e+00, 7.1000000e+01, 5.5000000e+01, 1.2407000e+04,\n",
       "        5.7270000e+03],\n",
       "       [3.0000000e+00, 2.1100000e+02, 1.3584000e+03, 1.2407000e+04,\n",
       "        1.1006000e+04],\n",
       "       ...,\n",
       "       [6.0000000e+00, 2.0067000e+04, 1.9788825e+05, 3.5824330e+06,\n",
       "        8.3992000e+04],\n",
       "       [6.0000000e+00, 8.4880000e+03, 5.8767600e+04, 3.5824330e+06,\n",
       "        2.1248000e+04],\n",
       "       [6.0000000e+00, 1.8812000e+04, 1.4009200e+05, 3.5824330e+06,\n",
       "        1.2318600e+05]])"
      ]
     },
     "execution_count": 28,
     "metadata": {},
     "output_type": "execute_result"
    }
   ],
   "source": [
    "three_month_data_no_census = np.array([])\n",
    "# List of months\n",
    "time_frames = pd.unique(covid_df_3month.month)\n",
    "# List of month case sums\n",
    "covid_3month_gp = covid_df_3month.groupby('month').sum().reset_index()\n",
    "\n",
    "for i in range(len(time_frames)-2): ## Need to ignore last week since data for last week is not complete\n",
    "    time_frame = time_frames[i]\n",
    "    for region in regions:\n",
    "        # Build current row of data\n",
    "        row_data = np.array([time_frame])\n",
    "        \n",
    "        # Get cases for current region\n",
    "        region_cases = covid_df_3month.loc[(covid_df_3month.month == time_frame) & (covid_df_3month.region == region)]['cases'].values\n",
    "        if len(region_cases) == 0:\n",
    "            region_cases = 0\n",
    "        else:\n",
    "            region_cases = region_cases[0]\n",
    "        row_data = np.append(row_data, [region_cases])\n",
    "        \n",
    "        # Get neighbors cases\n",
    "        neighbors = (la_neighbors[la_neighbors['region']==region]['neighbors']).values[0]\n",
    "        neighbors = neighbors.split(',')\n",
    "        neighbors = [neighbor.strip() for neighbor in neighbors]\n",
    "        neighbors_cases = 0\n",
    "        no_data_count = 0\n",
    "        for neighbor in neighbors:\n",
    "            neighbor_cases_arr= covid_df_3month.loc[(covid_df_3month.month == time_frame) & (covid_df_3month.region == neighbor)]['cases'].values\n",
    "            if len(neighbor_cases_arr) != 0:\n",
    "                neighbors_cases += neighbor_cases_arr[0]\n",
    "            else:\n",
    "                no_data_count += 1\n",
    "        if no_data_count == len(neighbors):\n",
    "            neighbors_cases += region_cases * len(neighbors)\n",
    "        else:\n",
    "            neighbors_cases += (no_data_count/(len(neighbors)-no_data_count))*neighbors_cases ## Use avg to fill missing data and add to neighbors_cases\n",
    "        row_data = np.append(row_data, [neighbors_cases])\n",
    "        \n",
    "        # Get cases of the entire LA region\n",
    "        total_cases = covid_3month_gp[covid_3month_gp['month'] == time_frame]['cases'].values[0]\n",
    "        row_data = np.append(row_data, [total_cases])\n",
    "        \n",
    "        # Get cases for next time_frame\n",
    "        next_cases = covid_df_3month.loc[(covid_df_3month.month == time_frames[i+1]) & (covid_df_3month.region == region)]['cases'].values\n",
    "        # This data is not available yet\n",
    "        if len(next_cases) == 0:\n",
    "            next_cases = 0\n",
    "        else:\n",
    "            next_cases = next_cases[0]\n",
    "        row_data = np.append(row_data, [next_cases])\n",
    "\n",
    "        # Add data to numpy arr\n",
    "        if len(three_month_data_no_census.shape) == 1:\n",
    "            three_month_data_no_census = np.array([row_data])\n",
    "        else:\n",
    "            three_month_data_no_census = np.append(three_month_data_no_census, [row_data], axis=0)\n",
    "three_month_data_no_census"
   ]
  },
  {
   "cell_type": "code",
   "execution_count": 29,
   "metadata": {},
   "outputs": [
    {
     "data": {
      "text/plain": [
       "(370, 5)"
      ]
     },
     "execution_count": 29,
     "metadata": {},
     "output_type": "execute_result"
    }
   ],
   "source": [
    "three_month_data_no_census.shape"
   ]
  },
  {
   "cell_type": "code",
   "execution_count": 30,
   "metadata": {},
   "outputs": [
    {
     "data": {
      "text/plain": [
       "array([[3.0, 90.0, 116.0, ..., 2.212254052, 1.250552214, 13784],\n",
       "       [3.0, 71.0, 55.0, ..., 2.244841816, 2.206327373, 5727],\n",
       "       [3.0, 211.0, 1358.4, ..., 1.83572923, 0.060741040999999996, 11006],\n",
       "       ...,\n",
       "       [6.0, 20067.0, 197888.25, ..., 1.7230211169999998, 0.823940925,\n",
       "        83992],\n",
       "       [6.0, 8488.0, 58767.6, ..., 0.7894473870000001, 0.48965724, 21248],\n",
       "       [6.0, 18812.0, 140092.0, ..., 8.839935042, 6.587587376, 123186]],\n",
       "      dtype=object)"
      ]
     },
     "execution_count": 30,
     "metadata": {},
     "output_type": "execute_result"
    }
   ],
   "source": [
    "three_month_data_with_census = np.array([])\n",
    "# List of months\n",
    "time_frames = pd.unique(covid_df_3month.month)\n",
    "# List of month case sums\n",
    "covid_3month_gp = covid_df_3month.groupby('month').sum().reset_index()\n",
    "\n",
    "for i in range(len(time_frames)-2): ## Need to ignore last week since data for last week is not complete\n",
    "    time_frame = time_frames[i]\n",
    "    for region in regions:\n",
    "        # Build current row of data\n",
    "        row_data = np.array([time_frame])\n",
    "        \n",
    "        # Get cases for current region\n",
    "        region_cases = covid_df_3month.loc[(covid_df_3month.month == time_frame) & (covid_df_3month.region == region)]['cases'].values\n",
    "        if len(region_cases) == 0:\n",
    "            region_cases = 0\n",
    "        else:\n",
    "            region_cases = region_cases[0]\n",
    "        row_data = np.append(row_data, [region_cases])\n",
    "        \n",
    "        # Get neighbors cases\n",
    "        neighbors = (la_neighbors[la_neighbors['region']==region]['neighbors']).values[0]\n",
    "        neighbors = neighbors.split(',')\n",
    "        neighbors = [neighbor.strip() for neighbor in neighbors]\n",
    "        neighbors_cases = 0\n",
    "        no_data_count = 0\n",
    "        for neighbor in neighbors:\n",
    "            neighbor_cases_arr= covid_df_3month.loc[(covid_df_3month.month == time_frame) & (covid_df_3month.region == neighbor)]['cases'].values\n",
    "            if len(neighbor_cases_arr) != 0:\n",
    "                neighbors_cases += neighbor_cases_arr[0]\n",
    "            else:\n",
    "                no_data_count += 1\n",
    "        if no_data_count == len(neighbors):\n",
    "            neighbors_cases += region_cases * len(neighbors)\n",
    "        else:\n",
    "            neighbors_cases += (no_data_count/(len(neighbors)-no_data_count))*neighbors_cases ## Use avg to fill missing data and add to neighbors_cases\n",
    "        row_data = np.append(row_data, [neighbors_cases])\n",
    "        \n",
    "        # Get cases of the entire LA region\n",
    "        total_cases = covid_3month_gp[covid_3month_gp['month'] == time_frame]['cases'].values[0]\n",
    "        row_data = np.append(row_data, [total_cases])\n",
    "        \n",
    "        # Get census data\n",
    "        census_row = census_data[census_data['name']==region].values[0][1:]\n",
    "        row_data = np.append(row_data, census_row)\n",
    "        \n",
    "        # Get cases for next time_frame\n",
    "        next_cases = covid_df_3month.loc[(covid_df_3month.month == time_frames[i+1]) & (covid_df_3month.region == region)]['cases'].values\n",
    "        # This data is not available yet\n",
    "        if len(next_cases) == 0:\n",
    "            next_cases = 0\n",
    "        else:\n",
    "            next_cases = next_cases[0]\n",
    "        row_data = np.append(row_data, [next_cases])\n",
    "\n",
    "        # Add data to numpy arr\n",
    "        if len(three_month_data_with_census.shape) == 1:\n",
    "            three_month_data_with_census = np.array([row_data])\n",
    "        else:\n",
    "            three_month_data_with_census = np.append(three_month_data_with_census, [row_data], axis=0)\n",
    "three_month_data_with_census"
   ]
  },
  {
   "cell_type": "code",
   "execution_count": 31,
   "metadata": {},
   "outputs": [
    {
     "data": {
      "text/plain": [
       "(370, 172)"
      ]
     },
     "execution_count": 31,
     "metadata": {},
     "output_type": "execute_result"
    }
   ],
   "source": [
    "three_month_data_with_census.shape"
   ]
  },
  {
   "cell_type": "code",
   "execution_count": 32,
   "metadata": {},
   "outputs": [],
   "source": [
    "np.save('../data/covid/covid_3month_no_census', three_month_data_no_census)\n",
    "np.save('../data/covid/covid_3month_with_census', three_month_data_with_census)"
   ]
  },
  {
   "cell_type": "markdown",
   "metadata": {},
   "source": [
    "### Daily aggregate"
   ]
  },
  {
   "cell_type": "code",
   "execution_count": 33,
   "metadata": {
    "scrolled": false
   },
   "outputs": [
    {
     "name": "stderr",
     "output_type": "stream",
     "text": [
      "<ipython-input-33-cb5b261e19bb>:2: SettingWithCopyWarning: \n",
      "A value is trying to be set on a copy of a slice from a DataFrame.\n",
      "Try using .loc[row_indexer,col_indexer] = value instead\n",
      "\n",
      "See the caveats in the documentation: https://pandas.pydata.org/pandas-docs/stable/user_guide/indexing.html#returning-a-view-versus-a-copy\n",
      "  covid_df_day['Time Stamp'] = pd.to_datetime(covid_df['Time Stamp'])\n"
     ]
    },
    {
     "data": {
      "text/html": [
       "<div>\n",
       "<style scoped>\n",
       "    .dataframe tbody tr th:only-of-type {\n",
       "        vertical-align: middle;\n",
       "    }\n",
       "\n",
       "    .dataframe tbody tr th {\n",
       "        vertical-align: top;\n",
       "    }\n",
       "\n",
       "    .dataframe thead th {\n",
       "        text-align: right;\n",
       "    }\n",
       "</style>\n",
       "<table border=\"1\" class=\"dataframe\">\n",
       "  <thead>\n",
       "    <tr style=\"text-align: right;\">\n",
       "      <th></th>\n",
       "      <th>day</th>\n",
       "      <th>region</th>\n",
       "      <th>cases</th>\n",
       "    </tr>\n",
       "  </thead>\n",
       "  <tbody>\n",
       "    <tr>\n",
       "      <th>0</th>\n",
       "      <td>76</td>\n",
       "      <td>Alhambra</td>\n",
       "      <td>2</td>\n",
       "    </tr>\n",
       "    <tr>\n",
       "      <th>1</th>\n",
       "      <td>76</td>\n",
       "      <td>Arcadia</td>\n",
       "      <td>1</td>\n",
       "    </tr>\n",
       "    <tr>\n",
       "      <th>2</th>\n",
       "      <td>76</td>\n",
       "      <td>Beverly Hills</td>\n",
       "      <td>1</td>\n",
       "    </tr>\n",
       "    <tr>\n",
       "      <th>3</th>\n",
       "      <td>76</td>\n",
       "      <td>Boyle Heights</td>\n",
       "      <td>5</td>\n",
       "    </tr>\n",
       "    <tr>\n",
       "      <th>4</th>\n",
       "      <td>76</td>\n",
       "      <td>Carson</td>\n",
       "      <td>1</td>\n",
       "    </tr>\n",
       "    <tr>\n",
       "      <th>...</th>\n",
       "      <td>...</td>\n",
       "      <td>...</td>\n",
       "      <td>...</td>\n",
       "    </tr>\n",
       "    <tr>\n",
       "      <th>48583</th>\n",
       "      <td>285</td>\n",
       "      <td>Willowbrook</td>\n",
       "      <td>248</td>\n",
       "    </tr>\n",
       "    <tr>\n",
       "      <th>48584</th>\n",
       "      <td>285</td>\n",
       "      <td>Wilmington</td>\n",
       "      <td>1851</td>\n",
       "    </tr>\n",
       "    <tr>\n",
       "      <th>48585</th>\n",
       "      <td>285</td>\n",
       "      <td>Wilshire Center</td>\n",
       "      <td>1152</td>\n",
       "    </tr>\n",
       "    <tr>\n",
       "      <th>48586</th>\n",
       "      <td>285</td>\n",
       "      <td>Winnetka</td>\n",
       "      <td>1349</td>\n",
       "    </tr>\n",
       "    <tr>\n",
       "      <th>48587</th>\n",
       "      <td>285</td>\n",
       "      <td>Woodland Hills</td>\n",
       "      <td>1017</td>\n",
       "    </tr>\n",
       "  </tbody>\n",
       "</table>\n",
       "<p>48588 rows × 3 columns</p>\n",
       "</div>"
      ],
      "text/plain": [
       "       day           region  cases\n",
       "0       76         Alhambra      2\n",
       "1       76          Arcadia      1\n",
       "2       76    Beverly Hills      1\n",
       "3       76    Boyle Heights      5\n",
       "4       76           Carson      1\n",
       "...    ...              ...    ...\n",
       "48583  285      Willowbrook    248\n",
       "48584  285       Wilmington   1851\n",
       "48585  285  Wilshire Center   1152\n",
       "48586  285         Winnetka   1349\n",
       "48587  285   Woodland Hills   1017\n",
       "\n",
       "[48588 rows x 3 columns]"
      ]
     },
     "execution_count": 33,
     "metadata": {},
     "output_type": "execute_result"
    }
   ],
   "source": [
    "covid_df_day = covid_df[['Time Stamp', 'Region', 'Number of cases']]\n",
    "covid_df_day['Time Stamp'] = pd.to_datetime(covid_df['Time Stamp'])\n",
    "covid_df_day = covid_df_day.set_index('Time Stamp')\n",
    "covid_df_day = covid_df_day.groupby([pd.Grouper(freq='D'), 'Region']).sum()\n",
    "covid_df_day = covid_df_day.reset_index(level=['Time Stamp','Region']).rename(columns={'Time Stamp': 'day', 'Region':'region', 'Number of cases':'cases'})\n",
    "covid_df_day.day = covid_df_day.day.dt.dayofyear\n",
    "covid_df_day\n"
   ]
  },
  {
   "cell_type": "code",
   "execution_count": 34,
   "metadata": {},
   "outputs": [
    {
     "data": {
      "text/plain": [
       "array([[7.60000e+01, 2.00000e+00, 1.00000e+01, 6.00000e+01, 1.00000e+00],\n",
       "       [7.60000e+01, 1.00000e+00, 1.00000e+01, 6.00000e+01, 1.00000e+00],\n",
       "       [7.60000e+01, 1.00000e+00, 4.00000e+01, 6.00000e+01, 1.00000e+00],\n",
       "       ...,\n",
       "       [2.83000e+02, 1.20900e+03, 9.67750e+03, 2.50075e+05, 1.21200e+03],\n",
       "       [2.83000e+02, 2.96000e+02, 7.85640e+03, 2.50075e+05, 2.96000e+02],\n",
       "       [2.83000e+02, 1.84400e+03, 6.09600e+03, 2.50075e+05, 1.85100e+03]])"
      ]
     },
     "execution_count": 34,
     "metadata": {},
     "output_type": "execute_result"
    }
   ],
   "source": [
    "day_data_no_census = np.array([])\n",
    "# List of months\n",
    "time_frames = pd.unique(covid_df_day.day)\n",
    "# List of month case sums\n",
    "covid_day_gp = covid_df_day.groupby('day').sum().reset_index()\n",
    "\n",
    "for i in range(len(time_frames)-2): ## Need to ignore last week since data for last week is not complete\n",
    "    time_frame = time_frames[i]\n",
    "    for region in regions:\n",
    "        # Build current row of data\n",
    "        row_data = np.array([time_frame])\n",
    "        \n",
    "        # Get cases for current region\n",
    "        region_cases = covid_df_day.loc[(covid_df_day.day == time_frame) & (covid_df_day.region == region)]['cases'].values\n",
    "        if len(region_cases) == 0:\n",
    "            region_cases = 0\n",
    "        else:\n",
    "            region_cases = region_cases[0]\n",
    "        row_data = np.append(row_data, [region_cases])\n",
    "        \n",
    "        # Get neighbors cases\n",
    "        neighbors = (la_neighbors[la_neighbors['region']==region]['neighbors']).values[0]\n",
    "        neighbors = neighbors.split(',')\n",
    "        neighbors = [neighbor.strip() for neighbor in neighbors]\n",
    "        neighbors_cases = 0\n",
    "        no_data_count = 0\n",
    "        for neighbor in neighbors:\n",
    "            neighbor_cases_arr= covid_df_day.loc[(covid_df_day.day == time_frame) & (covid_df_day.region == neighbor)]['cases'].values\n",
    "            if len(neighbor_cases_arr) != 0:\n",
    "                neighbors_cases += neighbor_cases_arr[0]\n",
    "            else:\n",
    "                no_data_count += 1\n",
    "        if no_data_count == len(neighbors):\n",
    "            neighbors_cases += region_cases * len(neighbors)\n",
    "        else:\n",
    "            neighbors_cases += (no_data_count/(len(neighbors)-no_data_count))*neighbors_cases ## Use avg to fill missing data and add to neighbors_cases\n",
    "        row_data = np.append(row_data, [neighbors_cases])\n",
    "        \n",
    "        # Get cases of the entire LA region\n",
    "        total_cases = covid_day_gp[covid_day_gp['day'] == time_frame]['cases'].values[0]\n",
    "        row_data = np.append(row_data, [total_cases])\n",
    "        \n",
    "        # Get cases for next time_frame\n",
    "        next_cases = covid_df_day.loc[(covid_df_day.day == time_frames[i+1]) & (covid_df_day.region == region)]['cases'].values\n",
    "        # This data is not available yet\n",
    "        if len(next_cases) == 0:\n",
    "            next_cases = 0\n",
    "        else:\n",
    "            next_cases = next_cases[0]\n",
    "        row_data = np.append(row_data, [next_cases])\n",
    "        \n",
    "        # Add data to numpy arr\n",
    "        if len(day_data_no_census.shape) == 1:\n",
    "            day_data_no_census = np.array([row_data])\n",
    "        else:\n",
    "            day_data_no_census = np.append(day_data_no_census, [row_data], axis=0)\n",
    "day_data_no_census"
   ]
  },
  {
   "cell_type": "code",
   "execution_count": 35,
   "metadata": {},
   "outputs": [
    {
     "data": {
      "text/plain": [
       "(38480, 5)"
      ]
     },
     "execution_count": 35,
     "metadata": {},
     "output_type": "execute_result"
    }
   ],
   "source": [
    "day_data_no_census.shape"
   ]
  },
  {
   "cell_type": "code",
   "execution_count": null,
   "metadata": {},
   "outputs": [],
   "source": [
    "day_data_with_census = np.array([])\n",
    "# List of months\n",
    "time_frames = pd.unique(covid_df_day.day)\n",
    "# List of month case sums\n",
    "covid_day_gp = covid_df_day.groupby('day').sum().reset_index()\n",
    "\n",
    "for i in range(len(time_frames)-2): ## Need to ignore last week since data for last week is not complete\n",
    "    time_frame = time_frames[i]\n",
    "    for region in regions:\n",
    "        # Build current row of data\n",
    "        row_data = np.array([time_frame])\n",
    "        \n",
    "        # Get cases for current region\n",
    "        region_cases = covid_df_day.loc[(covid_df_day.day == time_frame) & (covid_df_day.region == region)]['cases'].values\n",
    "        if len(region_cases) == 0:\n",
    "            region_cases = 0\n",
    "        else:\n",
    "            region_cases = region_cases[0]\n",
    "        row_data = np.append(row_data, [region_cases])\n",
    "        \n",
    "        # Get neighbors cases\n",
    "        neighbors = (la_neighbors[la_neighbors['region']==region]['neighbors']).values[0]\n",
    "        neighbors = neighbors.split(',')\n",
    "        neighbors = [neighbor.strip() for neighbor in neighbors]\n",
    "        neighbors_cases = 0\n",
    "        no_data_count = 0\n",
    "        for neighbor in neighbors:\n",
    "            neighbor_cases_arr= covid_df_day.loc[(covid_df_day.day == time_frame) & (covid_df_day.region == neighbor)]['cases'].values\n",
    "            if len(neighbor_cases_arr) != 0:\n",
    "                neighbors_cases += neighbor_cases_arr[0]\n",
    "            else:\n",
    "                no_data_count += 1\n",
    "        if no_data_count == len(neighbors):\n",
    "            neighbors_cases += region_cases * len(neighbors)\n",
    "        else:\n",
    "            neighbors_cases += (no_data_count/(len(neighbors)-no_data_count))*neighbors_cases ## Use avg to fill missing data and add to neighbors_cases\n",
    "        row_data = np.append(row_data, [neighbors_cases])\n",
    "        \n",
    "        # Get cases of the entire LA region\n",
    "        total_cases = covid_day_gp[covid_day_gp['day'] == time_frame]['cases'].values[0]\n",
    "        row_data = np.append(row_data, [total_cases])\n",
    "        \n",
    "        # Get census data\n",
    "        census_row = census_data[census_data['name']==region].values[0][1:]\n",
    "        row_data = np.append(row_data, census_row)\n",
    "        \n",
    "        # Get cases for next time_frame\n",
    "        next_cases = covid_df_day.loc[(covid_df_day.day == time_frames[i+1]) & (covid_df_day.region == region)]['cases'].values\n",
    "        # This data is not available yet\n",
    "        if len(next_cases) == 0:\n",
    "            next_cases = 0\n",
    "        else:\n",
    "            next_cases = next_cases[0]\n",
    "        row_data = np.append(row_data, [next_cases])\n",
    "        \n",
    "        # Add data to numpy arr\n",
    "        if len(day_data_with_census.shape) == 1:\n",
    "            day_data_with_census = np.array([row_data])\n",
    "        else:\n",
    "            day_data_with_census = np.append(day_data_with_census, [row_data], axis=0)\n",
    "day_data_with_census"
   ]
  },
  {
   "cell_type": "code",
   "execution_count": null,
   "metadata": {},
   "outputs": [],
   "source": [
    "day_data_with_census.shape"
   ]
  },
  {
   "cell_type": "code",
   "execution_count": null,
   "metadata": {},
   "outputs": [],
   "source": [
    "np.save('../data/covid/covid_day_no_census', day_data_no_census)\n",
    "np.save('../data/covid/covid_day_with_census', day_data_with_census)"
   ]
  },
  {
   "cell_type": "code",
   "execution_count": 34,
   "metadata": {},
   "outputs": [],
   "source": [
    "# covid_df_week.to_csv('../data/covid/covid_week.csv')\n",
    "covid_df_month.to_csv('../data/covid/covid_month.csv')\n",
    "# covid_df_3month.to_csv('../data/covid/covid_3months.csv')"
   ]
  },
  {
   "cell_type": "markdown",
   "metadata": {},
   "source": [
    "### Check for missing cities"
   ]
  },
  {
   "cell_type": "code",
   "execution_count": 242,
   "metadata": {},
   "outputs": [
    {
     "data": {
      "text/plain": [
       "array(['Agua Dulce', 'Alondra Park', 'Angeles Crest', 'Arlington Heights',\n",
       "       'Avocado Heights', 'Baldwin Hills/Crenshaw', 'Bel-Air',\n",
       "       'Beverly Grove', 'Broadway-Manchester', 'Castaic Canyons',\n",
       "       'Central-Alameda', 'Charter Oak', 'Chatsworth Reservoir',\n",
       "       'Chesterfield Square', 'Citrus', 'Cypress Park', 'Del Aire',\n",
       "       'Desert View Highlands', 'East Compton', 'East La Mirada',\n",
       "       'East Pasadena', 'East San Gabriel', 'Elizabeth Lake', 'Fairfax',\n",
       "       'Gramercy Park', 'Green Valley', 'Griffith Park', 'Hansen Dam',\n",
       "       'Hasley Canyon', 'Historic South-Central', 'Hollywood Hills West',\n",
       "       'La Crescenta-Montrose', 'Ladera Heights', 'Lake Hughes',\n",
       "       'Lake View Terrace', 'Larchmont', 'Lennox', 'Leona Valley',\n",
       "       'Littlerock', 'Long Beach', 'Lopez/Kagel Canyons',\n",
       "       'Marina del Rey', 'Mayflower Village', 'Mid-City', 'Mid-Wilshire',\n",
       "       'Montecito Heights', 'Mount Washington',\n",
       "       'Northeast Antelope Valley', 'North El Monte',\n",
       "       'Northwest Antelope Valley', 'Northwest Palmdale',\n",
       "       'North Whittier', 'Pico-Robertson', 'Playa del Rey', 'Quartz Hill',\n",
       "       'Ramona', 'Rancho Dominguez', 'Ridge Route', 'San Pasqual',\n",
       "       'Sawtelle', 'Sepulveda Basin', 'Silver Lake', 'South Diamond Bar',\n",
       "       'Southeast Antelope Valley', 'South San Gabriel',\n",
       "       'South San Jose Hills', 'Sun Village', 'Topanga',\n",
       "       'Tujunga Canyons', 'Unincorporated Catalina Island',\n",
       "       'Unincorporated Santa Monica Mountains',\n",
       "       'Unincorporated Santa Susana Mountains', 'Universal City',\n",
       "       'Val Verde', 'Vermont-Slauson', 'Veterans Administration',\n",
       "       'View Park-Windsor Hills', 'Vincent', 'Walnut Park', 'West Carson',\n",
       "       'West Compton', 'Westmont', 'West Puente Valley', 'West San Dimas',\n",
       "       'West Whittier-Los Nietos', 'Whittier Narrows', 'Windsor Square'],\n",
       "      dtype=object)"
      ]
     },
     "execution_count": 242,
     "metadata": {},
     "output_type": "execute_result"
    }
   ],
   "source": [
    "check_df = la_neighbors.assign(InDf2=la_neighbors.region.isin(covid_df2.region))\n",
    "pd.unique(check_df[check_df['InDf2']==False]['region'])"
   ]
  },
  {
   "cell_type": "code",
   "execution_count": 72,
   "metadata": {
    "scrolled": true
   },
   "outputs": [
    {
     "data": {
      "text/plain": [
       "array(['City', 'Melrose', 'Silverlake', 'West Vernon', 'Baldwin Hills',\n",
       "       'Century Palms/Cove', 'Crestview', 'Park LaBrea',\n",
       "       'Santa Monica Mountains', 'Miracle Mile', 'Park La Brea',\n",
       "       'Vernon Central', 'Temple', 'Wilshire Center', 'Canyon Country',\n",
       "       'Pico', 'Wholesale District', 'Crenshaw District',\n",
       "       'Little Bangladesh', 'Alsace', 'Angelino Heights', 'Bassett',\n",
       "       'Bel Air', 'Brookside', 'Cadillac-Corning', 'Central',\n",
       "       'Country Club Park', 'Exposition', 'Faircrest Heights',\n",
       "       'Figueroa Park Square', 'Gramercy Place', 'Harbor Pines',\n",
       "       'Lafayette Square', 'Lakeview Terrace', 'Little Armenia',\n",
       "       'Little Tokyo', 'Longwood', 'Mandeville Canyon',\n",
       "       'Marina Peninsula', 'Mid-city', 'Palisades Highlands',\n",
       "       'Playa Del Rey', 'Regent Square', 'Reseda Ranch',\n",
       "       'Reynier Village', 'South Carthay', 'St Elmo Village',\n",
       "       'Sycamore Square', 'Temple-Beaudry', 'Thai Town', 'Toluca Terrace',\n",
       "       'Toluca Woods', 'University Hills', 'View Heights',\n",
       "       'Angeles National Forest', 'Cloverdale/Cochran',\n",
       "       'Historic Filipinotown', 'Mt. Washington', 'Victoria Park',\n",
       "       'Wellington Square', 'West Whittier/Los Nietos'], dtype=object)"
      ]
     },
     "execution_count": 72,
     "metadata": {},
     "output_type": "execute_result"
    }
   ],
   "source": [
    "check_df = covid_df.assign(InDf2=covid_df.Region.isin(la_neighbors.region))\n",
    "missing_arr = pd.unique(check_df[check_df['InDf2']==False]['Region'])\n",
    "missing_arr"
   ]
  },
  {
   "cell_type": "code",
   "execution_count": 12,
   "metadata": {},
   "outputs": [
    {
     "data": {
      "text/html": [
       "<div>\n",
       "<style scoped>\n",
       "    .dataframe tbody tr th:only-of-type {\n",
       "        vertical-align: middle;\n",
       "    }\n",
       "\n",
       "    .dataframe tbody tr th {\n",
       "        vertical-align: top;\n",
       "    }\n",
       "\n",
       "    .dataframe thead th {\n",
       "        text-align: right;\n",
       "    }\n",
       "</style>\n",
       "<table border=\"1\" class=\"dataframe\">\n",
       "  <thead>\n",
       "    <tr style=\"text-align: right;\">\n",
       "      <th></th>\n",
       "      <th>region</th>\n",
       "      <th>neighbors</th>\n",
       "    </tr>\n",
       "  </thead>\n",
       "  <tbody>\n",
       "    <tr>\n",
       "      <th>17</th>\n",
       "      <td>Baldwin Hills/Crenshaw</td>\n",
       "      <td>Culver City, Jefferson Park, Ladera Heights, L...</td>\n",
       "    </tr>\n",
       "  </tbody>\n",
       "</table>\n",
       "</div>"
      ],
      "text/plain": [
       "                    region                                          neighbors\n",
       "17  Baldwin Hills/Crenshaw  Culver City, Jefferson Park, Ladera Heights, L..."
      ]
     },
     "execution_count": 12,
     "metadata": {},
     "output_type": "execute_result"
    }
   ],
   "source": [
    "la_neighbors[la_neighbors['region']=='Baldwin Hills/Crenshaw']"
   ]
  },
  {
   "cell_type": "code",
   "execution_count": 16,
   "metadata": {},
   "outputs": [
    {
     "data": {
      "text/html": [
       "<div>\n",
       "<style scoped>\n",
       "    .dataframe tbody tr th:only-of-type {\n",
       "        vertical-align: middle;\n",
       "    }\n",
       "\n",
       "    .dataframe tbody tr th {\n",
       "        vertical-align: top;\n",
       "    }\n",
       "\n",
       "    .dataframe thead th {\n",
       "        text-align: right;\n",
       "    }\n",
       "</style>\n",
       "<table border=\"1\" class=\"dataframe\">\n",
       "  <thead>\n",
       "    <tr style=\"text-align: right;\">\n",
       "      <th></th>\n",
       "      <th>Time Stamp</th>\n",
       "      <th>Region</th>\n",
       "      <th>Latitude</th>\n",
       "      <th>Longitude</th>\n",
       "      <th>Number of cases</th>\n",
       "    </tr>\n",
       "  </thead>\n",
       "  <tbody>\n",
       "    <tr>\n",
       "      <th>34</th>\n",
       "      <td>03-17-2020</td>\n",
       "      <td>Baldwin Hills</td>\n",
       "      <td>34.010989</td>\n",
       "      <td>-118.337071</td>\n",
       "      <td>1</td>\n",
       "    </tr>\n",
       "    <tr>\n",
       "      <th>75</th>\n",
       "      <td>03-18-2020</td>\n",
       "      <td>Baldwin Hills</td>\n",
       "      <td>34.010989</td>\n",
       "      <td>-118.337071</td>\n",
       "      <td>1</td>\n",
       "    </tr>\n",
       "    <tr>\n",
       "      <th>120</th>\n",
       "      <td>03-19-2020</td>\n",
       "      <td>Baldwin Hills</td>\n",
       "      <td>34.010989</td>\n",
       "      <td>-118.337071</td>\n",
       "      <td>1</td>\n",
       "    </tr>\n",
       "    <tr>\n",
       "      <th>191</th>\n",
       "      <td>03-20-2020</td>\n",
       "      <td>Baldwin Hills</td>\n",
       "      <td>34.010989</td>\n",
       "      <td>-118.337071</td>\n",
       "      <td>1</td>\n",
       "    </tr>\n",
       "    <tr>\n",
       "      <th>273</th>\n",
       "      <td>03-21-2020</td>\n",
       "      <td>Baldwin Hills</td>\n",
       "      <td>34.010989</td>\n",
       "      <td>-118.337071</td>\n",
       "      <td>2</td>\n",
       "    </tr>\n",
       "    <tr>\n",
       "      <th>...</th>\n",
       "      <td>...</td>\n",
       "      <td>...</td>\n",
       "      <td>...</td>\n",
       "      <td>...</td>\n",
       "      <td>...</td>\n",
       "    </tr>\n",
       "    <tr>\n",
       "      <th>49319</th>\n",
       "      <td>10-5-2020</td>\n",
       "      <td>Baldwin Hills</td>\n",
       "      <td>34.010989</td>\n",
       "      <td>-118.337071</td>\n",
       "      <td>627</td>\n",
       "    </tr>\n",
       "    <tr>\n",
       "      <th>49558</th>\n",
       "      <td>10-6-2020</td>\n",
       "      <td>Baldwin Hills</td>\n",
       "      <td>34.010989</td>\n",
       "      <td>-118.337071</td>\n",
       "      <td>628</td>\n",
       "    </tr>\n",
       "    <tr>\n",
       "      <th>49797</th>\n",
       "      <td>10-7-2020</td>\n",
       "      <td>Baldwin Hills</td>\n",
       "      <td>34.010989</td>\n",
       "      <td>-118.337071</td>\n",
       "      <td>634</td>\n",
       "    </tr>\n",
       "    <tr>\n",
       "      <th>50036</th>\n",
       "      <td>10-8-2020</td>\n",
       "      <td>Baldwin Hills</td>\n",
       "      <td>34.010989</td>\n",
       "      <td>-118.337071</td>\n",
       "      <td>636</td>\n",
       "    </tr>\n",
       "    <tr>\n",
       "      <th>50275</th>\n",
       "      <td>10-9-2020</td>\n",
       "      <td>Baldwin Hills</td>\n",
       "      <td>34.010989</td>\n",
       "      <td>-118.337071</td>\n",
       "      <td>638</td>\n",
       "    </tr>\n",
       "  </tbody>\n",
       "</table>\n",
       "<p>217 rows × 5 columns</p>\n",
       "</div>"
      ],
      "text/plain": [
       "       Time Stamp         Region   Latitude   Longitude  Number of cases\n",
       "34     03-17-2020  Baldwin Hills  34.010989 -118.337071                1\n",
       "75     03-18-2020  Baldwin Hills  34.010989 -118.337071                1\n",
       "120    03-19-2020  Baldwin Hills  34.010989 -118.337071                1\n",
       "191    03-20-2020  Baldwin Hills  34.010989 -118.337071                1\n",
       "273    03-21-2020  Baldwin Hills  34.010989 -118.337071                2\n",
       "...           ...            ...        ...         ...              ...\n",
       "49319   10-5-2020  Baldwin Hills  34.010989 -118.337071              627\n",
       "49558   10-6-2020  Baldwin Hills  34.010989 -118.337071              628\n",
       "49797   10-7-2020  Baldwin Hills  34.010989 -118.337071              634\n",
       "50036   10-8-2020  Baldwin Hills  34.010989 -118.337071              636\n",
       "50275   10-9-2020  Baldwin Hills  34.010989 -118.337071              638\n",
       "\n",
       "[217 rows x 5 columns]"
      ]
     },
     "execution_count": 16,
     "metadata": {},
     "output_type": "execute_result"
    }
   ],
   "source": [
    "covid_df[covid_df['Region']=='Baldwin Hills']"
   ]
  },
  {
   "cell_type": "code",
   "execution_count": null,
   "metadata": {},
   "outputs": [],
   "source": [
    "region_map = {\n",
    "    'Baldwin Hills/Crenshaw':'Baldwin Hills',\n",
    "    'Unincorporated Santa Monica Mountains':'Santa Monica Mountains',\n",
    "    'Mid-Wilshire':'Wilshire Center',\n",
    "    'Exposition Park':'Exposition',\n",
    "    \n",
    "}"
   ]
  },
  {
   "cell_type": "code",
   "execution_count": 74,
   "metadata": {},
   "outputs": [],
   "source": [
    "from shapely.geometry import Point, Polygon\n",
    "def find_la_region(covid_region):\n",
    "    polys = la_neighbors['geometry']\n",
    "    lat = covid_df[covid_df['Region']==covid_region].iloc[0,:][2]\n",
    "    lng = covid_df[covid_df['Region']==covid_region].iloc[0,:][3]\n",
    "#     print(lat, lng)\n",
    "    return (la_neighbors[polys.contains(Point(lng, lat))], lat, lng)"
   ]
  },
  {
   "cell_type": "code",
   "execution_count": 57,
   "metadata": {},
   "outputs": [
    {
     "name": "stdout",
     "output_type": "stream",
     "text": [
      "34.031132 -118.261507\n"
     ]
    },
    {
     "data": {
      "text/html": [
       "<div>\n",
       "<style scoped>\n",
       "    .dataframe tbody tr th:only-of-type {\n",
       "        vertical-align: middle;\n",
       "    }\n",
       "\n",
       "    .dataframe tbody tr th {\n",
       "        vertical-align: top;\n",
       "    }\n",
       "\n",
       "    .dataframe thead th {\n",
       "        text-align: right;\n",
       "    }\n",
       "</style>\n",
       "<table border=\"1\" class=\"dataframe\">\n",
       "  <thead>\n",
       "    <tr style=\"text-align: right;\">\n",
       "      <th></th>\n",
       "      <th>region</th>\n",
       "      <th>neighbors</th>\n",
       "      <th>geometry</th>\n",
       "    </tr>\n",
       "  </thead>\n",
       "  <tbody>\n",
       "    <tr>\n",
       "      <th>60</th>\n",
       "      <td>Downtown</td>\n",
       "      <td>Boyle Heights, Central-Alameda, Chinatown, Ech...</td>\n",
       "      <td>POLYGON ((-118.24021 34.05871, -118.23951 34.0...</td>\n",
       "    </tr>\n",
       "  </tbody>\n",
       "</table>\n",
       "</div>"
      ],
      "text/plain": [
       "      region                                          neighbors  \\\n",
       "60  Downtown  Boyle Heights, Central-Alameda, Chinatown, Ech...   \n",
       "\n",
       "                                             geometry  \n",
       "60  POLYGON ((-118.24021 34.05871, -118.23951 34.0...  "
      ]
     },
     "execution_count": 57,
     "metadata": {},
     "output_type": "execute_result"
    }
   ],
   "source": [
    "find_la_region('Santa Monica Mountains')"
   ]
  },
  {
   "cell_type": "code",
   "execution_count": 58,
   "metadata": {},
   "outputs": [
    {
     "name": "stdout",
     "output_type": "stream",
     "text": [
      "34.0406717 -118.2661915\n"
     ]
    },
    {
     "data": {
      "text/html": [
       "<div>\n",
       "<style scoped>\n",
       "    .dataframe tbody tr th:only-of-type {\n",
       "        vertical-align: middle;\n",
       "    }\n",
       "\n",
       "    .dataframe tbody tr th {\n",
       "        vertical-align: top;\n",
       "    }\n",
       "\n",
       "    .dataframe thead th {\n",
       "        text-align: right;\n",
       "    }\n",
       "</style>\n",
       "<table border=\"1\" class=\"dataframe\">\n",
       "  <thead>\n",
       "    <tr style=\"text-align: right;\">\n",
       "      <th></th>\n",
       "      <th>region</th>\n",
       "      <th>neighbors</th>\n",
       "      <th>geometry</th>\n",
       "    </tr>\n",
       "  </thead>\n",
       "  <tbody>\n",
       "    <tr>\n",
       "      <th>60</th>\n",
       "      <td>Downtown</td>\n",
       "      <td>Boyle Heights, Central-Alameda, Chinatown, Ech...</td>\n",
       "      <td>POLYGON ((-118.24021 34.05871, -118.23951 34.0...</td>\n",
       "    </tr>\n",
       "  </tbody>\n",
       "</table>\n",
       "</div>"
      ],
      "text/plain": [
       "      region                                          neighbors  \\\n",
       "60  Downtown  Boyle Heights, Central-Alameda, Chinatown, Ech...   \n",
       "\n",
       "                                             geometry  \n",
       "60  POLYGON ((-118.24021 34.05871, -118.23951 34.0...  "
      ]
     },
     "execution_count": 58,
     "metadata": {},
     "output_type": "execute_result"
    }
   ],
   "source": [
    "find_la_region('Pico')"
   ]
  },
  {
   "cell_type": "code",
   "execution_count": 66,
   "metadata": {},
   "outputs": [
    {
     "name": "stdout",
     "output_type": "stream",
     "text": [
      "34.013653999999995 -118.2872106\n"
     ]
    },
    {
     "data": {
      "text/plain": [
       "(1, 3)"
      ]
     },
     "execution_count": 66,
     "metadata": {},
     "output_type": "execute_result"
    }
   ],
   "source": [
    "find_la_region('Exposition').shape"
   ]
  },
  {
   "cell_type": "code",
   "execution_count": 77,
   "metadata": {},
   "outputs": [
    {
     "data": {
      "image/png": "[encoded data removed]",
      "text/plain": [
       "<Figure size 720x720 with 1 Axes>"
      ]
     },
     "metadata": {
      "needs_background": "light"
     },
     "output_type": "display_data"
    }
   ],
   "source": [
    "graph_region(la_neighbors, 'Downtown')"
   ]
  },
  {
   "cell_type": "code",
   "execution_count": null,
   "metadata": {},
   "outputs": [],
   "source": [
    "cleaned_region_map = {\n",
    "    'Downtown': ['City', 'Melrose', 'Temple', 'Pico']\n",
    "}\n",
    "wrong_map = ['Santa Monica Mountains', 'Melrose', '']"
   ]
  },
  {
   "cell_type": "code",
   "execution_count": 75,
   "metadata": {
    "scrolled": false
   },
   "outputs": [
    {
     "data": {
      "text/plain": [
       "defaultdict(list,\n",
       "            {'Downtown': [{'City': (34.0536909, -118.2427666)},\n",
       "              {'Melrose': (34.0536909, -118.2427666)},\n",
       "              {'Santa Monica Mountains': (34.031132, -118.261507)},\n",
       "              {'Temple': (34.0536909, -118.2427666)},\n",
       "              {'Pico': (34.0406717, -118.2661915)},\n",
       "              {'Wholesale District': (34.0365749, -118.2354342)},\n",
       "              {'Brookside': (34.0536909, -118.2427666)},\n",
       "              {'Central': (34.0536909, -118.2427666)},\n",
       "              {'Little Tokyo': (34.04821679999999, -118.2411814)},\n",
       "              {'Temple-Beaudry': (34.062884600000004, -118.2512529)}],\n",
       "             'Silver Lake': [{'Silverlake': (34.092941, -118.2697155)}],\n",
       "             'Vernon': [{'West Vernon': (34.007135, -118.22525)},\n",
       "              {'Vernon Central': (34.007135, -118.22525)}],\n",
       "             'Baldwin Hills/Crenshaw': [{'Baldwin Hills': (34.01098870000001,\n",
       "                -118.3370709)}],\n",
       "             'Century City': [{'Century Palms/Cove': (34.062844,\n",
       "                -118.415813)}],\n",
       "             'Westwood': [{'Crestview': (34.0621851, -118.4250119)},\n",
       "              {'Wilshire Center': (34.0615146, -118.4327712)},\n",
       "              {'Regent Square': (34.0615961, -118.4465521)}],\n",
       "             'West Hollywood': [{'Park LaBrea': (34.077937, -118.380901)}],\n",
       "             'Commerce': [{'Miracle Mile': (34.008544, -118.133415)},\n",
       "              {'St Elmo Village': (34.006541, -118.157565)}],\n",
       "             'Mid-Wilshire': [{'Park La Brea': (34.067401600000004,\n",
       "                -118.3552363)},\n",
       "              {'Cloverdale/Cochran': (34.062323, -118.346155)}],\n",
       "             'Santa Clarita': [{'Canyon Country': (34.42332929999999,\n",
       "                -118.4720281)}],\n",
       "             'Koreatown': [{'Crenshaw District': (34.0611479, -118.3194219)}],\n",
       "             'Westlake': [{'Little Bangladesh': (34.056179, -118.271908)},\n",
       "              {'Toluca Woods': (34.060921, -118.258622)}],\n",
       "             'Hyde Park': [{'Alsace': (33.9879995, -118.3476199)}],\n",
       "             'Echo Park': [{'Angelino Heights': (34.070288899999994,\n",
       "                -118.2547965)}],\n",
       "             'Avocado Heights': [{'Bassett': (34.049732299999995,\n",
       "                -117.9967323)}],\n",
       "             'Bel-Air': [{'Bel Air': (34.0827278, -118.44798020000002)}],\n",
       "             'Florence-Firestone': [{'Cadillac-Corning': (33.973951,\n",
       "                -118.248405)}],\n",
       "             'Arlington Heights': [{'Country Club Park': (34.050289,\n",
       "                -118.3211871)}],\n",
       "             'Exposition Park': [{'Exposition': (34.013653999999995,\n",
       "                -118.2872106)}],\n",
       "             'Chinatown': [{'Figueroa Park Square': (34.065295, -118.244762)}],\n",
       "             'Torrance': [{'Gramercy Place': (33.8677941,\n",
       "                -118.31354640000002)}],\n",
       "             'Harbor City': [{'Harbor Pines': (33.78256810000001,\n",
       "                -118.3069302)}],\n",
       "             'Mid-City': [{'Lafayette Square': (34.046406, -118.33379)},\n",
       "              {'Mid-city': (34.0415271, -118.3603703)},\n",
       "              {'Palisades Highlands': (34.040067, -118.345948)},\n",
       "              {'Reynier Village': (34.035522799999995, -118.38647079999998)},\n",
       "              {'Victoria Park': (34.046688700000004, -118.3307729)},\n",
       "              {'Wellington Square': (34.043033, -118.331976)}],\n",
       "             'Azusa': [{'Lakeview Terrace': (34.139661700000005,\n",
       "                -117.8986251)}],\n",
       "             'East Hollywood': [{'Little Armenia': (34.0981716,\n",
       "                -118.3044966)}],\n",
       "             'Playa Vista': [{'Longwood': (33.973537, -118.4263953)}],\n",
       "             'Brentwood': [{'Mandeville Canyon': (34.0610395, -118.4949801)}],\n",
       "             'Long Beach': [{'Marina Peninsula': (33.74871270000001,\n",
       "                -118.1227115)}],\n",
       "             'Playa del Rey': [{'Playa Del Rey': (33.9550828, -118.4367496)}],\n",
       "             'Porter Ranch': [{'Reseda Ranch': (34.276514500000005,\n",
       "                -118.5363704)}],\n",
       "             'Carthay': [{'South Carthay': (34.056121399999995,\n",
       "                -118.3734109)}],\n",
       "             'Sylmar': [{'Sycamore Square': (34.329077000000005,\n",
       "                -118.4660031)}],\n",
       "             'Los Feliz': [{'Thai Town': (34.1018533, -118.3048616)}],\n",
       "             'Toluca Lake': [{'Toluca Terrace': (34.1521688, -118.3571417)}],\n",
       "             'El Sereno': [{'University Hills': (34.06803529999999,\n",
       "                -118.1733524)}],\n",
       "             'West Adams': [{'View Heights': (34.033882,\n",
       "                -118.34771299999998)}],\n",
       "             'Angeles Crest': [{'Angeles National Forest': (34.3216546,\n",
       "                -118.019201)}],\n",
       "             'Mount Washington': [{'Mt. Washington': (34.0988396,\n",
       "                -118.2211069)}],\n",
       "             'Boyle Heights': [{'West Whittier/Los Nietos': (34.036211,\n",
       "                -118.219955)}]})"
      ]
     },
     "execution_count": 75,
     "metadata": {},
     "output_type": "execute_result"
    }
   ],
   "source": [
    "from collections import defaultdict\n",
    "\n",
    "la_to_covid_map = defaultdict(list)\n",
    "\n",
    "for covid_c in missing_arr:\n",
    "    data = find_la_region(covid_c)\n",
    "    if data[0].shape[0] == 0:\n",
    "        continue\n",
    "    la_to_covid_map[data[0].iloc[0,0]].append({covid_c:(data[1], data[2])})\n",
    "la_to_covid_map"
   ]
  }
 ],
 "metadata": {
  "kernelspec": {
   "display_name": "Python 3",
   "language": "python",
   "name": "python3"
  },
  "language_info": {
   "codemirror_mode": {
    "name": "ipython",
    "version": 3
   },
   "file_extension": ".py",
   "mimetype": "text/x-python",
   "name": "python",
   "nbconvert_exporter": "python",
   "pygments_lexer": "ipython3",
   "version": "3.8.5"
  }
 },
 "nbformat": 4,
 "nbformat_minor": 4
}
